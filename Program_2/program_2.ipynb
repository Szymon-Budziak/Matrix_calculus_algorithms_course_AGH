{
 "cells": [
  {
   "cell_type": "markdown",
   "id": "8db53d01",
   "metadata": {},
   "source": [
    "# Drugi program\n",
    "\n",
    "**Realizowane tematy:** \n",
    "1) Algorytm eliminacji Gaussa bez pivotingu generujący jedynki na przekątnej\n",
    "\n",
    "2) Algorytm eliminacji Gaussa z pivotingiem\n",
    "\n",
    "3) Algorytm LU faktoryzacji bez pivotingu\n",
    "\n",
    "4) Algorytm LU faktoryzacji z pivotingiem\n",
    "\n",
    "\n",
    "**Przygotowali:**\n",
    "- *Tomasz Bochnak*\n",
    "- *Szymon Budziak*"
   ]
  },
  {
   "cell_type": "markdown",
   "source": [
    "## Pseudokody algorytmów\n",
    "*Źródło: Wykład profesora Paszyńskiego z przedmiotu Rachunek Macierzowy*\n",
    "[Pseudokody](https://home.agh.edu.pl/~paszynsk/RM/RachunekMacierzowy2.pdf)\n",
    "\n",
    "Pseudokody do wszystkich poniższych algorytmów są podane na stronie prof. Paszyńskiego podanej powyżej"
   ],
   "metadata": {
    "collapsed": false
   }
  },
  {
   "cell_type": "markdown",
   "source": [
    "![](img/slajdy.png)"
   ],
   "metadata": {
    "collapsed": false
   }
  },
  {
   "cell_type": "markdown",
   "source": [
    "## Importy"
   ],
   "metadata": {
    "collapsed": false
   }
  },
  {
   "cell_type": "code",
   "execution_count": 1,
   "outputs": [],
   "source": [
    "import numpy as np\n",
    "from copy import deepcopy\n",
    "from time import perf_counter\n",
    "\n",
    "np.random.seed(101)"
   ],
   "metadata": {
    "collapsed": false,
    "ExecuteTime": {
     "start_time": "2024-03-25T19:55:03.494209Z",
     "end_time": "2024-03-25T19:55:03.612886Z"
    }
   }
  },
  {
   "cell_type": "code",
   "execution_count": 2,
   "outputs": [
    {
     "name": "stdout",
     "output_type": "stream",
     "text": [
      "Birth month: 2, Birth date: 2\n",
      "A: [[1 6 7 9]\n",
      " [8 4 8 5]\n",
      " [0 5 8 1]\n",
      " [3 8 3 3]]\n",
      "B: [[2]\n",
      " [8]\n",
      " [9]\n",
      " [3]]\n"
     ]
    }
   ],
   "source": [
    "birth_month = 2\n",
    "birth_date = 2\n",
    "matrix_size = birth_month + birth_date\n",
    "\n",
    "A = np.random.randint(low=0, high=10, size=(matrix_size, matrix_size))\n",
    "B = np.random.randint(low=0, high=10, size=(matrix_size, 1))\n",
    "time_comparisons = []\n",
    "\n",
    "print(f'Birth month: {birth_month}, Birth date: {birth_date}')\n",
    "print(f'A: {A}')\n",
    "print(f'B: {B}')"
   ],
   "metadata": {
    "collapsed": false,
    "ExecuteTime": {
     "start_time": "2024-03-25T19:55:04.097852Z",
     "end_time": "2024-03-25T19:55:04.102763Z"
    }
   }
  },
  {
   "cell_type": "markdown",
   "source": [
    "**Przykładowe rozwiązanie dla miesiąca luty oraz dnia 2 przy pomocy np.linalg.solve**"
   ],
   "metadata": {
    "collapsed": false
   }
  },
  {
   "cell_type": "code",
   "execution_count": 3,
   "outputs": [
    {
     "name": "stdout",
     "output_type": "stream",
     "text": [
      "X: [[ 0.28463559]\n",
      " [ 0.13591596]\n",
      " [ 1.13821405]\n",
      " [-0.78529219]]\n"
     ]
    }
   ],
   "source": [
    "start = perf_counter()\n",
    "X_base = np.linalg.solve(A, B)\n",
    "stop = perf_counter()\n",
    "\n",
    "print(f'X: {X_base}')\n",
    "time_comparisons.append({'np.linalg.solve': stop - start})"
   ],
   "metadata": {
    "collapsed": false,
    "ExecuteTime": {
     "start_time": "2024-03-25T19:55:06.871428Z",
     "end_time": "2024-03-25T19:55:06.878530Z"
    }
   }
  },
  {
   "cell_type": "markdown",
   "source": [
    "## Algorytm eliminacji Gaussa bez pivotingu generujący jedynki na przekątnej\n",
    "\n",
    "*Źródło: Wykład profesora Paszyńskiego z przedmiotu Rachunek Macierzowy*\n",
    "[Wykład](https://home.agh.edu.pl/~paszynsk/RM/RachunekMacierzowy2.pdf)\n",
    "Slajd 15"
   ],
   "metadata": {
    "collapsed": false
   }
  },
  {
   "cell_type": "code",
   "execution_count": 4,
   "outputs": [],
   "source": [
    "def gaussian_elimination_no_pivot(A: np.ndarray, B: np.ndarray) -> tuple[np.ndarray, float]:\n",
    "    \"\"\"\n",
    "    Gaussian elimination algorithm without pivoting\n",
    "\n",
    "    Args:\n",
    "        A (np.ndarray): Matrix A\n",
    "        B (np.ndarray): Matrix B\n",
    "\n",
    "    Returns:\n",
    "        np.ndarray: Solution vector\n",
    "        float: Execution time\n",
    "    \"\"\"\n",
    "    A = deepcopy(A)\n",
    "    B = deepcopy(B)\n",
    "\n",
    "    n = A.shape[0]\n",
    "    X = np.zeros(n)\n",
    "\n",
    "    start = perf_counter()\n",
    "\n",
    "    for i in range(n):\n",
    "        for j in range(i + 1, n):\n",
    "            m = A[j, i] / A[i, i]\n",
    "            A[j, i] = m\n",
    "            for k in range(i + 1, n):\n",
    "                A[j, k] = A[j, k] - m * A[i, k]\n",
    "            B[j, 0] = B[j, 0] - m * B[i, 0]\n",
    "\n",
    "    X[n - 1] = B[n - 1, 0] / A[n - 1, n - 1]\n",
    "    for i in range(n - 1, -1, -1):\n",
    "        sum = B[i, 0]\n",
    "        for j in range(i + 1, n):\n",
    "            sum = sum - A[i, j] * X[j]\n",
    "        X[i] = sum / A[i, i]\n",
    "\n",
    "    end = perf_counter()\n",
    "\n",
    "    return np.matrix(X).T, end - start"
   ],
   "metadata": {
    "collapsed": false,
    "ExecuteTime": {
     "start_time": "2024-03-25T19:55:13.503499Z",
     "end_time": "2024-03-25T19:55:13.508161Z"
    }
   }
  },
  {
   "cell_type": "code",
   "execution_count": 5,
   "outputs": [
    {
     "name": "stdout",
     "output_type": "stream",
     "text": [
      "X: [[ 0.23354232]\n",
      " [ 0.28291536]\n",
      " [ 1.20689655]\n",
      " [-0.93103448]]\n"
     ]
    }
   ],
   "source": [
    "X, exec_time = gaussian_elimination_no_pivot(A, B)\n",
    "\n",
    "print(f'X: {X}')\n",
    "time_comparisons.append({'Gauss no pivot': exec_time})"
   ],
   "metadata": {
    "collapsed": false,
    "ExecuteTime": {
     "start_time": "2024-03-25T19:55:14.500250Z",
     "end_time": "2024-03-25T19:55:14.507929Z"
    }
   }
  },
  {
   "cell_type": "markdown",
   "source": [
    "## Algorytm eliminacji Gaussa z pivotingiem\n",
    "\n",
    "*Źródło: Wykład profesora Paszyńskiego z przedmiotu Rachunek Macierzowy*\n",
    "[Wykład](https://home.agh.edu.pl/~paszynsk/RM/RachunekMacierzowy2.pdf)\n",
    "Strona 31"
   ],
   "metadata": {
    "collapsed": false
   }
  },
  {
   "cell_type": "code",
   "execution_count": 6,
   "outputs": [],
   "source": [
    "def gaussian_elimination_with_pivot(A: np.ndarray, B: np.ndarray) -> tuple[np.ndarray, float]:\n",
    "    \"\"\"\n",
    "    Gaussian elimination algorithm with pivoting\n",
    "\n",
    "    Args:\n",
    "        A (np.ndarray): Matrix A\n",
    "        B (np.ndarray): Matrix B\n",
    "\n",
    "    Returns:\n",
    "        np.ndarray: Solution vector\n",
    "        float: Execution time\n",
    "    \"\"\"\n",
    "    A = deepcopy(A)\n",
    "    B = deepcopy(B)\n",
    "\n",
    "    n = A.shape[0]\n",
    "    X = np.zeros(n)\n",
    "\n",
    "    start = perf_counter()\n",
    "\n",
    "    for k in range(n - 1):\n",
    "        # Pivot\n",
    "        max_index = abs(A[k:, k]).argmax() + k\n",
    "        if A[max_index, k] == 0:\n",
    "            raise ValueError(\"Matrix is singular.\")\n",
    "        # Swap\n",
    "        if max_index != k:\n",
    "            A[[k, max_index]] = A[[max_index, k]]\n",
    "            B[[k, max_index]] = B[[max_index, k]]\n",
    "        # Eliminate\n",
    "        for row in range(k + 1, n):\n",
    "            multiplier = A[row, k] / A[k, k]\n",
    "            A[row, k:] = A[row, k:] - multiplier * A[k, k:]\n",
    "            B[row] = B[row] - multiplier * B[k]\n",
    "\n",
    "    for k in range(n - 1, -1, -1):\n",
    "        X[k] = (B[k, 0] - np.dot(A[k, k + 1:], X[k + 1:])) / A[k, k]\n",
    "\n",
    "    end = perf_counter()\n",
    "\n",
    "    return X, end - start"
   ],
   "metadata": {
    "collapsed": false,
    "ExecuteTime": {
     "start_time": "2024-03-25T19:55:18.995210Z",
     "end_time": "2024-03-25T19:55:19.000373Z"
    }
   }
  },
  {
   "cell_type": "code",
   "execution_count": 7,
   "outputs": [
    {
     "name": "stdout",
     "output_type": "stream",
     "text": [
      "X: [ 0.26190476  0.11904762  1.125      -0.71428571]\n"
     ]
    }
   ],
   "source": [
    "X, exec_time = gaussian_elimination_with_pivot(A, B)\n",
    "\n",
    "print(f'X: {X}')\n",
    "time_comparisons.append({'Gauss with pivot': exec_time})"
   ],
   "metadata": {
    "collapsed": false,
    "ExecuteTime": {
     "start_time": "2024-03-25T19:55:20.397442Z",
     "end_time": "2024-03-25T19:55:20.405181Z"
    }
   }
  },
  {
   "cell_type": "markdown",
   "source": [
    "## Algorytm LU faktoryzacji bez pivotingu\n",
    "\n",
    "*Źródło: Wykład profesora Paszyńskiego z przedmiotu Rachunek Macierzowy*\n",
    "[Wykład](https://home.agh.edu.pl/~paszynsk/RM/RachunekMacierzowy2.pdf)\n",
    "Strona 38"
   ],
   "metadata": {
    "collapsed": false
   }
  },
  {
   "cell_type": "code",
   "execution_count": 8,
   "outputs": [],
   "source": [
    "def lu_factorization_no_pivot(A: np.ndarray) -> tuple[np.ndarray, np.ndarray]:\n",
    "    \"\"\"\n",
    "    LU factorization algorithm without pivoting\n",
    "\n",
    "    Args:\n",
    "        A (np.ndarray): Matrix to factorize\n",
    "\n",
    "    Returns:\n",
    "        tuple[np.ndarray, np.ndarray]: Tuple with L and U matrices\n",
    "    \"\"\"\n",
    "    n = A.shape[0]\n",
    "\n",
    "    L = np.zeros((n, n))\n",
    "    U = np.zeros((n, n))\n",
    "\n",
    "    for i in range(n):\n",
    "        L[i, i] = 1\n",
    "\n",
    "        for j in range(i, n):\n",
    "            U[i, j] = A[i, j] - np.dot(L[i, :i], U[:i, j])\n",
    "        for j in range(i + 1, n):\n",
    "            L[j, i] = (A[j, i] - np.dot(L[j, :i], U[:i, i])) / U[i, i]\n",
    "\n",
    "    return L, U"
   ],
   "metadata": {
    "collapsed": false,
    "ExecuteTime": {
     "start_time": "2024-03-25T19:55:25.076088Z",
     "end_time": "2024-03-25T19:55:25.089998Z"
    }
   }
  },
  {
   "cell_type": "code",
   "execution_count": 9,
   "outputs": [],
   "source": [
    "def forward_substitution(L: np.ndarray, B: np.ndarray) -> np.ndarray:\n",
    "    \"\"\"\n",
    "    Forward substitution algorithm\n",
    "\n",
    "    Args:\n",
    "        L (np.ndarray): L matrix\n",
    "        B (np.ndarray): B matrix\n",
    "\n",
    "    Returns:\n",
    "        np.ndarray: Solution vector\n",
    "    \"\"\"\n",
    "    n = L.shape[0]\n",
    "    y = np.zeros(n)\n",
    "\n",
    "    for i in range(n):\n",
    "        y[i] = (B[i, 0] - np.dot(L[i, :i], y[:i])) / L[i, i]\n",
    "\n",
    "    return y\n",
    "\n",
    "\n",
    "def backward_substitution(U: np.ndarray, y: np.ndarray) -> np.ndarray:\n",
    "    \"\"\"\n",
    "    Backward substitution algorithm\n",
    "\n",
    "    Args:\n",
    "        U (np.ndarray): U matrix\n",
    "        y (np.ndarray): y matrix\n",
    "\n",
    "    Returns:\n",
    "        np.ndarray: Solution vector\n",
    "    \"\"\"\n",
    "    n = U.shape[0]\n",
    "    x = np.zeros(n)\n",
    "\n",
    "    for i in range(n - 1, -1, -1):\n",
    "        x[i] = (y[i] - np.dot(U[i, i + 1:], x[i + 1:])) / U[i, i]\n",
    "\n",
    "    return x\n",
    "\n",
    "\n",
    "def lu_solve_no_pivot(A: np.ndarray, B: np.ndarray) -> tuple[np.ndarray, float]:\n",
    "    \"\"\"\n",
    "    LU solve algorithm\n",
    "\n",
    "    Args:\n",
    "        A (np.ndarray): A matrix\n",
    "        B (np.ndarray): B matrix\n",
    "\n",
    "    Returns:\n",
    "        np.ndarray: Solution vector\n",
    "        float: Execution time\n",
    "    \"\"\"\n",
    "    A = deepcopy(A)\n",
    "    B = deepcopy(B)\n",
    "\n",
    "    start = perf_counter()\n",
    "\n",
    "    L, U = lu_factorization_no_pivot(A)\n",
    "    y = forward_substitution(L, B)\n",
    "    X = backward_substitution(U, y)\n",
    "\n",
    "    end = perf_counter()\n",
    "\n",
    "    return X, end - start"
   ],
   "metadata": {
    "collapsed": false,
    "ExecuteTime": {
     "start_time": "2024-03-25T19:55:30.202071Z",
     "end_time": "2024-03-25T19:55:30.208192Z"
    }
   }
  },
  {
   "cell_type": "code",
   "execution_count": 10,
   "outputs": [
    {
     "name": "stdout",
     "output_type": "stream",
     "text": [
      "X: [ 0.28463559  0.13591596  1.13821405 -0.78529219]\n"
     ]
    }
   ],
   "source": [
    "X, exec_time = lu_solve_no_pivot(A, B)\n",
    "\n",
    "print(f'X: {X}')\n",
    "time_comparisons.append({'LU no pivot': exec_time})"
   ],
   "metadata": {
    "collapsed": false,
    "ExecuteTime": {
     "start_time": "2024-03-25T19:55:30.866327Z",
     "end_time": "2024-03-25T19:55:30.879745Z"
    }
   }
  },
  {
   "cell_type": "markdown",
   "source": [
    "## Algorytm LU faktoryzacji z pivotingiem\n",
    "\n",
    "*Źródło: Wykład profesora Paszyńskiego z przedmiotu Rachunek Macierzowy*\n",
    "[Wykład](https://home.agh.edu.pl/~paszynsk/RM/RachunekMacierzowy2.pdf)\n",
    "Strona 38"
   ],
   "metadata": {
    "collapsed": false
   }
  },
  {
   "cell_type": "code",
   "execution_count": 11,
   "outputs": [],
   "source": [
    "def lu_factorization_with_pivot(A: np.ndarray) -> tuple[np.ndarray, np.ndarray, np.ndarray]:\n",
    "    \"\"\"\n",
    "    LU factorization with partial (row) pivoting\n",
    "\n",
    "    Args:\n",
    "        A (numpy.ndarray): Input matrix\n",
    "\n",
    "    Returns:\n",
    "        tuple[np.ndarray, np.ndarray, np.ndarray]: L, U, P matrices\n",
    "    \"\"\"\n",
    "    n = A.shape[0]\n",
    "\n",
    "    L = np.eye(n)\n",
    "    P = np.eye(n)\n",
    "    U = np.copy(A)\n",
    "\n",
    "    for k in range(n):\n",
    "        pivot_row = np.argmax(np.abs(U[k:, k])) + k\n",
    "        if pivot_row != k:\n",
    "            # Interchange rows m and k in U\n",
    "            U[[k, pivot_row]] = U[[pivot_row, k]]\n",
    "\n",
    "            # Interchange rows m and k in P\n",
    "            P[[k, pivot_row]] = P[[pivot_row, k]]\n",
    "\n",
    "            if k >= 1:\n",
    "                L[k, :k], L[pivot_row, :k] = L[pivot_row, :k], L[k, :k].copy()\n",
    "\n",
    "        for j in range(k + 1, n):\n",
    "            L[j, k] = U[j, k] / U[k, k]\n",
    "            U[j, :] = U[j, :] - L[j, k] * U[k, :]\n",
    "\n",
    "    return L, U, P\n",
    "\n",
    "\n",
    "def lu_solve_pivot(A: np.ndarray, B: np.ndarray) -> tuple[np.ndarray, float]:\n",
    "    \"\"\"\n",
    "    LU solve algorithm with pivoting\n",
    "\n",
    "    Args:\n",
    "        A (np.ndarray): Matrix A\n",
    "        B (np.ndarray): Matrix B\n",
    "\n",
    "    Returns:\n",
    "        np.ndarray: Solution vector\n",
    "        float: Execution time\n",
    "    \"\"\"\n",
    "    A = deepcopy(A)\n",
    "    B = deepcopy(B)\n",
    "\n",
    "    start = perf_counter()\n",
    "\n",
    "    L, U, P = lu_factorization_with_pivot(A)\n",
    "    Pb = np.dot(P, B)\n",
    "    y = forward_substitution(L, Pb)\n",
    "    X = backward_substitution(U, y)\n",
    "\n",
    "    end = perf_counter()\n",
    "\n",
    "    return X, end - start"
   ],
   "metadata": {
    "collapsed": false,
    "ExecuteTime": {
     "start_time": "2024-03-25T19:55:46.600495Z",
     "end_time": "2024-03-25T19:55:46.642543Z"
    }
   }
  },
  {
   "cell_type": "code",
   "execution_count": 12,
   "outputs": [
    {
     "name": "stdout",
     "output_type": "stream",
     "text": [
      "X: [ 0.31994048  0.13690476  1.125      -0.82142857]\n"
     ]
    }
   ],
   "source": [
    "X, exec_time = lu_solve_pivot(A, B)\n",
    "\n",
    "print(f'X: {X}')\n",
    "time_comparisons.append({'LU with pivot': exec_time})"
   ],
   "metadata": {
    "collapsed": false,
    "ExecuteTime": {
     "start_time": "2024-03-25T19:55:48.237621Z",
     "end_time": "2024-03-25T19:55:48.244414Z"
    }
   }
  },
  {
   "cell_type": "markdown",
   "source": [
    "## Wyniki"
   ],
   "metadata": {
    "collapsed": false
   }
  },
  {
   "cell_type": "code",
   "execution_count": 13,
   "outputs": [
    {
     "name": "stdout",
     "output_type": "stream",
     "text": [
      "Execution times:\n",
      "np.linalg.solve: 0.0004323 s\n",
      "Gauss no pivot: 0.0000475 s\n",
      "Gauss with pivot: 0.0011575 s\n",
      "LU no pivot: 0.0007408 s\n",
      "LU with pivot: 0.0010292 s\n",
      "The fastest algorithm is:  {'Gauss no pivot': 4.7524999899906106e-05}\n"
     ]
    }
   ],
   "source": [
    "print('Execution times:')\n",
    "for time_comparison in time_comparisons:\n",
    "    for key, value in time_comparison.items():\n",
    "        print(f'{key}: {value:.7f} s')\n",
    "\n",
    "print('The fastest algorithm is: ', min(time_comparisons, key=lambda x: list(x.values())[0]))"
   ],
   "metadata": {
    "collapsed": false,
    "ExecuteTime": {
     "start_time": "2024-03-25T19:55:51.203180Z",
     "end_time": "2024-03-25T19:55:51.214649Z"
    }
   }
  },
  {
   "cell_type": "code",
   "execution_count": 14,
   "outputs": [
    {
     "data": {
      "text/plain": "<Figure size 1000x500 with 1 Axes>",
      "image/png": "[encoded data removed]"
     },
     "metadata": {},
     "output_type": "display_data"
    }
   ],
   "source": [
    "import matplotlib.pyplot as plt\n",
    "\n",
    "times = [list(time_comparison.values())[0] for time_comparison in time_comparisons]\n",
    "labels = [list(time_comparison.keys())[0] for time_comparison in time_comparisons]\n",
    "\n",
    "plt.figure(figsize=(10, 5))\n",
    "plt.bar(labels, times, color='skyblue')\n",
    "plt.ylabel('Execution time [s]')\n",
    "plt.title('Execution times of different algorithms')\n",
    "plt.grid(axis='y')\n",
    "plt.show()"
   ],
   "metadata": {
    "collapsed": false,
    "ExecuteTime": {
     "start_time": "2024-03-25T19:55:53.555549Z",
     "end_time": "2024-03-25T19:55:54.087953Z"
    }
   }
  }
 ],
 "metadata": {
  "kernelspec": {
   "display_name": "Python 3 (ipykernel)",
   "language": "python",
   "name": "python3"
  },
  "language_info": {
   "codemirror_mode": {
    "name": "ipython",
    "version": 3
   },
   "file_extension": ".py",
   "mimetype": "text/x-python",
   "name": "python",
   "nbconvert_exporter": "python",
   "pygments_lexer": "ipython3",
   "version": "3.11.5"
  },
  "varInspector": {
   "cols": {
    "lenName": 16,
    "lenType": 16,
    "lenVar": 40
   },
   "kernels_config": {
    "python": {
     "delete_cmd_postfix": "",
     "delete_cmd_prefix": "del ",
     "library": "var_list.py",
     "varRefreshCmd": "print(var_dic_list())"
    },
    "r": {
     "delete_cmd_postfix": ") ",
     "delete_cmd_prefix": "rm(",
     "library": "var_list.r",
     "varRefreshCmd": "cat(var_dic_list()) "
    }
   },
   "types_to_exclude": [
    "module",
    "function",
    "builtin_function_or_method",
    "instance",
    "_Feature"
   ],
   "window_display": false
  }
 },
 "nbformat": 4,
 "nbformat_minor": 5
}

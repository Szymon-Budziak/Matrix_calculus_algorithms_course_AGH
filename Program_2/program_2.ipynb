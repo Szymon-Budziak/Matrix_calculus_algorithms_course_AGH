{
 "cells": [
  {
   "cell_type": "markdown",
   "id": "8db53d01",
   "metadata": {},
   "source": [
    "# Drugi program\n",
    "\n",
    "**Realizowane tematy:** \n",
    "1) Algorytm eliminacji Gaussa bez pivotingu generujący jedynki na przekątnej\n",
    "\n",
    "2) Algorytm eliminacji Gaussa z pivotingiem\n",
    "\n",
    "3) Algorytm LU faktoryzacji bez pivotingu\n",
    "\n",
    "4) Algorytm LU faktoryzacji z pivotingiem\n",
    "\n",
    "\n",
    "**Przygotowali:**\n",
    "- *Tomasz Bochnak*\n",
    "- *Szymon Budziak*"
   ]
  },
  {
   "cell_type": "markdown",
   "id": "733b95ba",
   "metadata": {},
   "source": [
    "## Pseudokody algorytmów\n",
    "*Źródło: Wykład profesora Paszyńskiego z przedmiotu Rachunek Macierzowy*\n",
    "[Pseudokody](https://home.agh.edu.pl/~paszynsk/RM/RachunekMacierzowy2.pdf)\n",
    "\n",
    "Pseudokody do wszystkich poniższych algorytmów są podane na stronie prof. Paszyńskiego podanej powyżej"
   ]
  },
  {
   "cell_type": "markdown",
   "id": "80a53c62",
   "metadata": {},
   "source": [
    "![](img/slajdy.png)"
   ]
  },
  {
   "cell_type": "markdown",
   "id": "dfd1d4f5",
   "metadata": {},
   "source": [
    "## Importy"
   ]
  },
  {
   "cell_type": "code",
   "execution_count": 1,
   "id": "3030a4c8",
   "metadata": {
    "ExecuteTime": {
     "end_time": "2024-03-25T19:55:03.612886Z",
     "start_time": "2024-03-25T19:55:03.494209Z"
    }
   },
   "outputs": [],
   "source": [
    "import numpy as np\n",
    "from copy import deepcopy\n",
    "from time import perf_counter\n",
    "\n",
    "np.random.seed(101)"
   ]
  },
  {
   "cell_type": "code",
   "execution_count": 2,
   "id": "cc4bbbec",
   "metadata": {
    "ExecuteTime": {
     "end_time": "2024-03-25T19:55:04.102763Z",
     "start_time": "2024-03-25T19:55:04.097852Z"
    }
   },
   "outputs": [
    {
     "name": "stdout",
     "output_type": "stream",
     "text": [
      "Birth month: 2, Birth date: 2\n",
      "A: [[1 6 7 9]\n",
      " [8 4 8 5]\n",
      " [0 5 8 1]\n",
      " [3 8 3 3]]\n",
      "B: [[2]\n",
      " [8]\n",
      " [9]\n",
      " [3]]\n"
     ]
    }
   ],
   "source": [
    "birth_month = 2\n",
    "birth_date = 2\n",
    "matrix_size = birth_month + birth_date\n",
    "\n",
    "A = np.random.randint(low=0, high=10, size=(matrix_size, matrix_size))\n",
    "B = np.random.randint(low=0, high=10, size=(matrix_size, 1))\n",
    "time_comparisons = []\n",
    "\n",
    "print(f'Birth month: {birth_month}, Birth date: {birth_date}')\n",
    "print(f'A: {A}')\n",
    "print(f'B: {B}')"
   ]
  },
  {
   "cell_type": "markdown",
   "id": "7f61798d",
   "metadata": {},
   "source": [
    "**Przykładowe rozwiązanie dla miesiąca luty oraz dnia 2 przy pomocy np.linalg.solve**"
   ]
  },
  {
   "cell_type": "code",
   "execution_count": 3,
   "id": "2d153624",
   "metadata": {
    "ExecuteTime": {
     "end_time": "2024-03-25T19:55:06.878530Z",
     "start_time": "2024-03-25T19:55:06.871428Z"
    }
   },
   "outputs": [
    {
     "name": "stdout",
     "output_type": "stream",
     "text": [
      "X: [[ 0.28463559]\n",
      " [ 0.13591596]\n",
      " [ 1.13821405]\n",
      " [-0.78529219]]\n"
     ]
    }
   ],
   "source": [
    "start = perf_counter()\n",
    "X_base = np.linalg.solve(A, B)\n",
    "stop = perf_counter()\n",
    "\n",
    "print(f'X: {X_base}')\n",
    "time_comparisons.append({'np.linalg.solve': stop - start})"
   ]
  },
  {
   "cell_type": "markdown",
   "id": "7aa957c8",
   "metadata": {},
   "source": [
    "## Algorytm eliminacji Gaussa bez pivotingu generujący jedynki na przekątnej\n",
    "\n",
    "*Źródło: Wykład profesora Paszyńskiego z przedmiotu Rachunek Macierzowy*\n",
    "[Wykład](https://home.agh.edu.pl/~paszynsk/RM/RachunekMacierzowy2.pdf)\n",
    "Slajd 15"
   ]
  },
  {
   "cell_type": "code",
   "execution_count": 4,
   "id": "a74ebe6d",
   "metadata": {
    "ExecuteTime": {
     "end_time": "2024-03-25T19:55:13.508161Z",
     "start_time": "2024-03-25T19:55:13.503499Z"
    }
   },
   "outputs": [],
   "source": [
    "def gaussian_elimination_no_pivot(A: np.ndarray, B: np.ndarray) -> tuple[np.ndarray, float]:\n",
    "    \"\"\"\n",
    "    Gaussian elimination algorithm without pivoting\n",
    "\n",
    "    Args:\n",
    "        A (np.ndarray): Matrix A\n",
    "        B (np.ndarray): Matrix B\n",
    "\n",
    "    Returns:\n",
    "        np.ndarray: Solution vector\n",
    "        float: Execution time\n",
    "    \"\"\"\n",
    "    A = deepcopy(A)\n",
    "    B = deepcopy(B)\n",
    "\n",
    "    n = A.shape[0]\n",
    "    X = np.zeros(n)\n",
    "\n",
    "    start = perf_counter()\n",
    "\n",
    "    for i in range(n):\n",
    "        for j in range(i + 1, n):\n",
    "            m = A[j, i] / A[i, i]\n",
    "            A[j, i] = m\n",
    "            for k in range(i + 1, n):\n",
    "                A[j, k] = A[j, k] - m * A[i, k]\n",
    "            B[j, 0] = B[j, 0] - m * B[i, 0]\n",
    "\n",
    "    X[n - 1] = B[n - 1, 0] / A[n - 1, n - 1]\n",
    "    for i in range(n - 1, -1, -1):\n",
    "        sum = B[i, 0]\n",
    "        for j in range(i + 1, n):\n",
    "            sum = sum - A[i, j] * X[j]\n",
    "        X[i] = sum / A[i, i]\n",
    "\n",
    "    end = perf_counter()\n",
    "\n",
    "    return np.matrix(X).T, end - start"
   ]
  },
  {
   "cell_type": "code",
   "execution_count": 5,
   "id": "bd3d140f",
   "metadata": {
    "ExecuteTime": {
     "end_time": "2024-03-25T19:55:14.507929Z",
     "start_time": "2024-03-25T19:55:14.500250Z"
    }
   },
   "outputs": [
    {
     "name": "stdout",
     "output_type": "stream",
     "text": [
      "X: [[ 0.23354232]\n",
      " [ 0.28291536]\n",
      " [ 1.20689655]\n",
      " [-0.93103448]]\n"
     ]
    }
   ],
   "source": [
    "X, exec_time = gaussian_elimination_no_pivot(A, B)\n",
    "\n",
    "print(f'X: {X}')\n",
    "time_comparisons.append({'Gauss no pivot': exec_time})"
   ]
  },
  {
   "cell_type": "markdown",
   "id": "9b0f1c6b",
   "metadata": {},
   "source": [
    "## Algorytm eliminacji Gaussa z pivotingiem\n",
    "\n",
    "*Źródło: Wykład profesora Paszyńskiego z przedmiotu Rachunek Macierzowy*\n",
    "[Wykład](https://home.agh.edu.pl/~paszynsk/RM/RachunekMacierzowy2.pdf)\n",
    "Strona 31"
   ]
  },
  {
   "cell_type": "code",
   "execution_count": 6,
   "id": "24cf23cd",
   "metadata": {
    "ExecuteTime": {
     "end_time": "2024-03-25T19:55:19.000373Z",
     "start_time": "2024-03-25T19:55:18.995210Z"
    }
   },
   "outputs": [],
   "source": [
    "def gaussian_elimination_with_pivot(A: np.ndarray, B: np.ndarray) -> tuple[np.ndarray, float]:\n",
    "    \"\"\"\n",
    "    Gaussian elimination algorithm with pivoting\n",
    "\n",
    "    Args:\n",
    "        A (np.ndarray): Matrix A\n",
    "        B (np.ndarray): Matrix B\n",
    "\n",
    "    Returns:\n",
    "        np.ndarray: Solution vector\n",
    "        float: Execution time\n",
    "    \"\"\"\n",
    "    A = deepcopy(A)\n",
    "    B = deepcopy(B)\n",
    "\n",
    "    n = A.shape[0]\n",
    "    X = np.zeros(n)\n",
    "\n",
    "    start = perf_counter()\n",
    "\n",
    "    for k in range(n - 1):\n",
    "        # Pivot\n",
    "        max_index = abs(A[k:, k]).argmax() + k\n",
    "        if A[max_index, k] == 0:\n",
    "            raise ValueError(\"Matrix is singular.\")\n",
    "        # Swap\n",
    "        if max_index != k:\n",
    "            A[[k, max_index]] = A[[max_index, k]]\n",
    "            B[[k, max_index]] = B[[max_index, k]]\n",
    "        # Eliminate\n",
    "        for row in range(k + 1, n):\n",
    "            multiplier = A[row, k] / A[k, k]\n",
    "            A[row, k:] = A[row, k:] - multiplier * A[k, k:]\n",
    "            B[row] = B[row] - multiplier * B[k]\n",
    "\n",
    "    for k in range(n - 1, -1, -1):\n",
    "        X[k] = (B[k, 0] - np.dot(A[k, k + 1:], X[k + 1:])) / A[k, k]\n",
    "\n",
    "    end = perf_counter()\n",
    "\n",
    "    return X, end - start"
   ]
  },
  {
   "cell_type": "code",
   "execution_count": 7,
   "id": "98ea7389",
   "metadata": {
    "ExecuteTime": {
     "end_time": "2024-03-25T19:55:20.405181Z",
     "start_time": "2024-03-25T19:55:20.397442Z"
    }
   },
   "outputs": [
    {
     "name": "stdout",
     "output_type": "stream",
     "text": [
      "X: [ 0.26190476  0.11904762  1.125      -0.71428571]\n"
     ]
    }
   ],
   "source": [
    "X, exec_time = gaussian_elimination_with_pivot(A, B)\n",
    "\n",
    "print(f'X: {X}')\n",
    "time_comparisons.append({'Gauss with pivot': exec_time})"
   ]
  },
  {
   "cell_type": "markdown",
   "id": "5ec1724a",
   "metadata": {},
   "source": [
    "## Algorytm LU faktoryzacji bez pivotingu\n",
    "\n",
    "*Źródło: Wykład profesora Paszyńskiego z przedmiotu Rachunek Macierzowy*\n",
    "[Wykład](https://home.agh.edu.pl/~paszynsk/RM/RachunekMacierzowy2.pdf)\n",
    "Strona 38"
   ]
  },
  {
   "cell_type": "code",
   "execution_count": 8,
   "id": "d7611c94",
   "metadata": {
    "ExecuteTime": {
     "end_time": "2024-03-25T19:55:25.089998Z",
     "start_time": "2024-03-25T19:55:25.076088Z"
    }
   },
   "outputs": [],
   "source": [
    "def lu_factorization_no_pivot(A: np.ndarray) -> tuple[np.ndarray, np.ndarray]:\n",
    "    \"\"\"\n",
    "    LU factorization algorithm without pivoting\n",
    "\n",
    "    Args:\n",
    "        A (np.ndarray): Matrix to factorize\n",
    "\n",
    "    Returns:\n",
    "        tuple[np.ndarray, np.ndarray]: Tuple with L and U matrices\n",
    "    \"\"\"\n",
    "    n = A.shape[0]\n",
    "\n",
    "    L = np.zeros((n, n))\n",
    "    U = np.zeros((n, n))\n",
    "\n",
    "    for i in range(n):\n",
    "        L[i, i] = 1\n",
    "\n",
    "        for j in range(i, n):\n",
    "            U[i, j] = A[i, j] - np.dot(L[i, :i], U[:i, j])\n",
    "        for j in range(i + 1, n):\n",
    "            L[j, i] = (A[j, i] - np.dot(L[j, :i], U[:i, i])) / U[i, i]\n",
    "\n",
    "    return L, U"
   ]
  },
  {
   "cell_type": "code",
   "execution_count": 9,
   "id": "ae22d83d",
   "metadata": {
    "ExecuteTime": {
     "end_time": "2024-03-25T19:55:30.208192Z",
     "start_time": "2024-03-25T19:55:30.202071Z"
    }
   },
   "outputs": [],
   "source": [
    "def forward_substitution(L: np.ndarray, B: np.ndarray) -> np.ndarray:\n",
    "    \"\"\"\n",
    "    Forward substitution algorithm\n",
    "\n",
    "    Args:\n",
    "        L (np.ndarray): L matrix\n",
    "        B (np.ndarray): B matrix\n",
    "\n",
    "    Returns:\n",
    "        np.ndarray: Solution vector\n",
    "    \"\"\"\n",
    "    n = L.shape[0]\n",
    "    y = np.zeros(n)\n",
    "\n",
    "    for i in range(n):\n",
    "        y[i] = (B[i, 0] - np.dot(L[i, :i], y[:i])) / L[i, i]\n",
    "\n",
    "    return y\n",
    "\n",
    "\n",
    "def backward_substitution(U: np.ndarray, y: np.ndarray) -> np.ndarray:\n",
    "    \"\"\"\n",
    "    Backward substitution algorithm\n",
    "\n",
    "    Args:\n",
    "        U (np.ndarray): U matrix\n",
    "        y (np.ndarray): y matrix\n",
    "\n",
    "    Returns:\n",
    "        np.ndarray: Solution vector\n",
    "    \"\"\"\n",
    "    n = U.shape[0]\n",
    "    x = np.zeros(n)\n",
    "\n",
    "    for i in range(n - 1, -1, -1):\n",
    "        x[i] = (y[i] - np.dot(U[i, i + 1:], x[i + 1:])) / U[i, i]\n",
    "\n",
    "    return x\n",
    "\n",
    "\n",
    "def lu_solve_no_pivot(A: np.ndarray, B: np.ndarray) -> tuple[np.ndarray, float]:\n",
    "    \"\"\"\n",
    "    LU solve algorithm\n",
    "\n",
    "    Args:\n",
    "        A (np.ndarray): A matrix\n",
    "        B (np.ndarray): B matrix\n",
    "\n",
    "    Returns:\n",
    "        np.ndarray: Solution vector\n",
    "        float: Execution time\n",
    "    \"\"\"\n",
    "    A = deepcopy(A)\n",
    "    B = deepcopy(B)\n",
    "\n",
    "    start = perf_counter()\n",
    "\n",
    "    L, U = lu_factorization_no_pivot(A)\n",
    "    y = forward_substitution(L, B)\n",
    "    X = backward_substitution(U, y)\n",
    "\n",
    "    end = perf_counter()\n",
    "\n",
    "    return X, end - start"
   ]
  },
  {
   "cell_type": "code",
   "execution_count": 10,
   "id": "f2088ba0",
   "metadata": {
    "ExecuteTime": {
     "end_time": "2024-03-25T19:55:30.879745Z",
     "start_time": "2024-03-25T19:55:30.866327Z"
    }
   },
   "outputs": [
    {
     "name": "stdout",
     "output_type": "stream",
     "text": [
      "X: [ 0.28463559  0.13591596  1.13821405 -0.78529219]\n"
     ]
    }
   ],
   "source": [
    "X, exec_time = lu_solve_no_pivot(A, B)\n",
    "\n",
    "print(f'X: {X}')\n",
    "time_comparisons.append({'LU no pivot': exec_time})"
   ]
  },
  {
   "cell_type": "markdown",
   "id": "861f523c",
   "metadata": {},
   "source": [
    "## Algorytm LU faktoryzacji z pivotingiem\n",
    "\n",
    "*Źródło: Wykład profesora Paszyńskiego z przedmiotu Rachunek Macierzowy*\n",
    "[Wykład](https://home.agh.edu.pl/~paszynsk/RM/RachunekMacierzowy2.pdf)\n",
    "Strona 38"
   ]
  },
  {
   "cell_type": "code",
   "execution_count": 11,
   "id": "53aa6c31",
   "metadata": {
    "ExecuteTime": {
     "end_time": "2024-03-25T19:55:46.642543Z",
     "start_time": "2024-03-25T19:55:46.600495Z"
    }
   },
   "outputs": [],
   "source": [
    "def lu_factorization_with_pivot(A: np.ndarray) -> tuple[np.ndarray, np.ndarray, np.ndarray]:\n",
    "    \"\"\"\n",
    "    LU factorization with partial (row) pivoting\n",
    "\n",
    "    Args:\n",
    "        A (numpy.ndarray): Input matrix\n",
    "\n",
    "    Returns:\n",
    "        tuple[np.ndarray, np.ndarray, np.ndarray]: L, U, P matrices\n",
    "    \"\"\"\n",
    "    n = A.shape[0]\n",
    "\n",
    "    L = np.eye(n)\n",
    "    P = np.eye(n)\n",
    "    U = np.copy(A)\n",
    "\n",
    "    for k in range(n):\n",
    "        pivot_row = np.argmax(np.abs(U[k:, k])) + k\n",
    "        if pivot_row != k:\n",
    "            # Interchange rows m and k in U\n",
    "            U[[k, pivot_row]] = U[[pivot_row, k]]\n",
    "\n",
    "            # Interchange rows m and k in P\n",
    "            P[[k, pivot_row]] = P[[pivot_row, k]]\n",
    "\n",
    "            if k >= 1:\n",
    "                L[k, :k], L[pivot_row, :k] = L[pivot_row, :k], L[k, :k].copy()\n",
    "\n",
    "        for j in range(k + 1, n):\n",
    "            L[j, k] = U[j, k] / U[k, k]\n",
    "            U[j, :] = U[j, :] - L[j, k] * U[k, :]\n",
    "\n",
    "    return L, U, P\n",
    "\n",
    "\n",
    "def lu_solve_pivot(A: np.ndarray, B: np.ndarray) -> tuple[np.ndarray, float]:\n",
    "    \"\"\"\n",
    "    LU solve algorithm with pivoting\n",
    "\n",
    "    Args:\n",
    "        A (np.ndarray): Matrix A\n",
    "        B (np.ndarray): Matrix B\n",
    "\n",
    "    Returns:\n",
    "        np.ndarray: Solution vector\n",
    "        float: Execution time\n",
    "    \"\"\"\n",
    "    A = deepcopy(A)\n",
    "    B = deepcopy(B)\n",
    "\n",
    "    start = perf_counter()\n",
    "\n",
    "    L, U, P = lu_factorization_with_pivot(A)\n",
    "    Pb = np.dot(P, B)\n",
    "    y = forward_substitution(L, Pb)\n",
    "    X = backward_substitution(U, y)\n",
    "\n",
    "    end = perf_counter()\n",
    "\n",
    "    return X, end - start"
   ]
  },
  {
   "cell_type": "code",
   "execution_count": 12,
   "id": "27fad8de",
   "metadata": {
    "ExecuteTime": {
     "end_time": "2024-03-25T19:55:48.244414Z",
     "start_time": "2024-03-25T19:55:48.237621Z"
    }
   },
   "outputs": [
    {
     "name": "stdout",
     "output_type": "stream",
     "text": [
      "X: [ 0.31994048  0.13690476  1.125      -0.82142857]\n"
     ]
    }
   ],
   "source": [
    "X, exec_time = lu_solve_pivot(A, B)\n",
    "\n",
    "print(f'X: {X}')\n",
    "time_comparisons.append({'LU with pivot': exec_time})"
   ]
  },
  {
   "cell_type": "markdown",
   "id": "9b5c5a84",
   "metadata": {},
   "source": [
    "## Kod Matlab obliczający faktoryzację LU, oraz dzięki niej współczynnik LUx = b"
   ]
  },
  {
   "cell_type": "markdown",
   "id": "b7119e79",
   "metadata": {},
   "source": [
    " % source: https://www.mathworks.com/matlabcentral/answers/43397-performing-gauss-elimination-with-matlab\n",
    "\n",
    "A = [1 6 7 9; \n",
    "     8 4 8 5; \n",
    "     0 5 8 1; \n",
    "     3 8 3 3];\n",
    "\n",
    "b = [2; \n",
    "     8; \n",
    "     9; \n",
    "     3];\n",
    "\n",
    "tic;\n",
    "\n",
    "% Perform LU factorization\n",
    "[L, U] = lu(A);\n",
    "\n",
    "% Solve the system LUx = b for x\n",
    "x = U \\ (L \\ b);\n",
    "\n",
    "elapsedTime = toc;\n",
    "disp(['Elapsed time: ', num2str(elapsedTime), ' seconds']);\n",
    "\n",
    "disp(x)\n"
   ]
  },
  {
   "cell_type": "markdown",
   "id": "977b7133",
   "metadata": {},
   "source": [
    "Output:\n",
    "\n",
    "\n",
    "L = [0.125000000000000\t0.846153846153846\t0.750000000000000\t1\n",
    "1\t0\t0\t0\n",
    "0\t0.769230769230769\t1\t0\n",
    "0.375000000000000\t1\t0\t0 ]\n",
    "\n",
    "U = [8\t4\t8\t5\n",
    "0\t6.50000000000000\t0\t1.12500000000000\n",
    "0\t0\t8\t0.134615384615385\n",
    "0\t0\t0\t7.32211538461539]\n",
    "\n",
    "x = [0.284635587655942\n",
    "0.135915955351280\n",
    "1.13821405121471\n",
    "-0.785292186474064]\n",
    "\n",
    "Elapsed time: 0.0023764 seconds"
   ]
  },
  {
   "cell_type": "code",
   "execution_count": 13,
   "id": "ba1788f2",
   "metadata": {},
   "outputs": [],
   "source": [
    "time_comparisons.append({'Matlab': 0.0023764})"
   ]
  },
  {
   "cell_type": "markdown",
   "id": "1efc495b",
   "metadata": {},
   "source": [
    "## Wyniki"
   ]
  },
  {
   "cell_type": "code",
   "execution_count": 14,
   "id": "ca639b7a",
   "metadata": {},
   "outputs": [],
   "source": [
    "import matplotlib.pyplot as plt\n",
    "\n",
    "\n",
    "def plot_function_time_comparsions(time_comparisons):\n",
    "    times = [list(time_comparison.values())[0] for time_comparison in time_comparisons]\n",
    "    labels = [list(time_comparison.keys())[0] for time_comparison in time_comparisons]\n",
    "\n",
    "    plt.figure(figsize=(10, 5))\n",
    "    plt.bar(labels, times, color='skyblue')\n",
    "    plt.ylabel('Execution time [s]')\n",
    "    plt.title('Execution times of different algorithms')\n",
    "    plt.grid(axis='y')\n",
    "    plt.show()\n",
    "\n",
    "def execution_times(time_comparisons):\n",
    "    print('Execution times:')\n",
    "    for time_comparison in time_comparisons:\n",
    "        for key, value in time_comparison.items():\n",
    "            print(f'{key}: {value:.7f} s')\n",
    "\n",
    "    print('The fastest algorithm is: ', min(time_comparisons, key=lambda x: list(x.values())[0]))"
   ]
  },
  {
   "cell_type": "code",
   "execution_count": 15,
   "id": "41167e5f",
   "metadata": {
    "ExecuteTime": {
     "end_time": "2024-03-25T19:55:51.214649Z",
     "start_time": "2024-03-25T19:55:51.203180Z"
    }
   },
   "outputs": [
    {
     "name": "stdout",
     "output_type": "stream",
     "text": [
      "Execution times:\n",
      "np.linalg.solve: 0.0001094 s\n",
      "Gauss no pivot: 0.0000383 s\n",
      "Gauss with pivot: 0.0006900 s\n",
      "LU no pivot: 0.0001492 s\n",
      "LU with pivot: 0.0007186 s\n",
      "Matlab: 0.0023764 s\n",
      "The fastest algorithm is:  {'Gauss no pivot': 3.829200068139471e-05}\n"
     ]
    }
   ],
   "source": [
    "execution_times(time_comparisons)"
   ]
  },
  {
   "cell_type": "code",
   "execution_count": 16,
   "id": "df375c17",
   "metadata": {
    "ExecuteTime": {
     "end_time": "2024-03-25T19:55:54.087953Z",
     "start_time": "2024-03-25T19:55:53.555549Z"
    },
    "scrolled": false
   },
   "outputs": [
    {
     "data": {
      "image/png": "[encoded data removed]",
      "text/plain": [
       "<Figure size 1000x500 with 1 Axes>"
      ]
     },
     "metadata": {},
     "output_type": "display_data"
    }
   ],
   "source": [
    "plot_function_time_comparsions(time_comparisons)"
   ]
  },
  {
   "cell_type": "markdown",
   "id": "d248c35b",
   "metadata": {},
   "source": [
    "## Test dla macierzy gęstej 1000 x 1000"
   ]
  },
  {
   "cell_type": "markdown",
   "id": "6e61d2bd",
   "metadata": {},
   "source": [
    "% Kod Matlab\n",
    "\n",
    "\n",
    "rng(101, 'twister')\n",
    "\n",
    "matrix_size = 1000;\n",
    "\n",
    "A = randi([0 100], matrix_size, matrix_size);\n",
    "\n",
    "A = double(A); \n",
    "\n",
    "B = randi([0 100], matrix_size, 1);\n",
    "\n",
    "B = double(B);\n",
    "\n",
    "% Gram-Schmidt process to make the columns of A linearly independent\n",
    "\n",
    "for i = 1:size(A, 2)\n",
    "    for j = 1:(i-1)\n",
    "        A(:, i) = A(:, i) - (A(:, i)' * A(:, j)) / (A(:, j)' * A(:, j)) * A(:, j);\n",
    "    end\n",
    "end\n",
    "\n",
    "tic;\n",
    "\n",
    "% Perform LU factorization\n",
    "\n",
    "[L, U] = lu(A);\n",
    "\n",
    "% Solve the system LUx = b for x\n",
    "\n",
    "% First, solve Ly = b for y\n",
    "\n",
    "y = L \\ B;\n",
    "\n",
    "% Then, solve Ux = y for x\n",
    "\n",
    "x = U \\ y;\n",
    "\n",
    "elapsedTime = toc;\n",
    "disp(['Elapsed time: ', num2str(elapsedTime), ' seconds']);\n",
    "\n",
    "% Output: Elapsed time: 0.01312 seconds"
   ]
  },
  {
   "cell_type": "code",
   "execution_count": 51,
   "id": "c83f3584",
   "metadata": {},
   "outputs": [
    {
     "name": "stdout",
     "output_type": "stream",
     "text": [
      "Execution times:\n",
      "Matlab: 0.0131200 s\n",
      "LU no pivot: 0.9538701 s\n",
      "LU with pivot: 0.7942034 s\n",
      "Gauss no pivot: 60.3811545 s\n",
      "Gauss with pivot: 1.2715926 s\n",
      "np.linalg.solve: 0.0077380 s\n",
      "The fastest algorithm is:  {'np.linalg.solve': 0.0077380420043482445}\n"
     ]
    },
    {
     "data": {
      "image/png": "[encoded data removed]",
      "text/plain": [
       "<Figure size 1000x500 with 1 Axes>"
      ]
     },
     "metadata": {},
     "output_type": "display_data"
    }
   ],
   "source": [
    "def linalg_solve(A: np.ndarray, B: np.ndarray) -> tuple[np.ndarray, float]:\n",
    "    start = perf_counter()\n",
    "    X_base = np.linalg.solve(A, B)\n",
    "    stop = perf_counter()\n",
    "    return X_base, stop - start\n",
    "\n",
    "functions = [(lu_solve_no_pivot, 'LU no pivot'), (lu_solve_pivot,'LU with pivot'), (gaussian_elimination_no_pivot, 'Gauss no pivot'), (gaussian_elimination_with_pivot, 'Gauss with pivot'),(linalg_solve, 'np.linalg.solve')]\n",
    "time_comparisons = []\n",
    "\n",
    "matrix_size = 1000\n",
    "\n",
    "A = np.random.randint(low=0, high=100, size=(matrix_size, matrix_size))\n",
    "B = np.random.randint(low=0, high=100, size=(matrix_size, 1))\n",
    "\n",
    "A = A.astype('float64')\n",
    "\n",
    "# Gram-Schmidt process to make the columns of A linearly independent\n",
    "for i in range(A.shape[1]):\n",
    "    for j in range(i):\n",
    "        A[:, i] -= np.dot(A[:, i], A[:, j]) / np.dot(A[:, j], A[:, j]) * A[:, j]\n",
    "\n",
    "time_comparisons.append({\"Matlab\": 0.01312}) \n",
    "for function, function_name in functions:\n",
    "    _, exec_time = function(A,B)\n",
    "    time_comparisons.append({function_name: exec_time})\n",
    "    \n",
    "execution_times(time_comparisons)\n",
    "plot_function_time_comparsions(time_comparisons)\n"
   ]
  },
  {
   "cell_type": "markdown",
   "id": "30f3b6a3",
   "metadata": {},
   "source": [
    "Wnioski, Algorytmy nie są stabilne numerycznie. i czas obliczeń dla Gaussa bez pivotingu jest zdecydowanie dłuższy od pozostałych, Obliczenia przy użyciu np.linalg.solve i Matlaba, są stabilne numerycznie, i czasy obliczeń najkrótsze."
   ]
  }
 ],
 "metadata": {
  "kernelspec": {
   "display_name": "Python 3 (ipykernel)",
   "language": "python",
   "name": "python3"
  },
  "language_info": {
   "codemirror_mode": {
    "name": "ipython",
    "version": 3
   },
   "file_extension": ".py",
   "mimetype": "text/x-python",
   "name": "python",
   "nbconvert_exporter": "python",
   "pygments_lexer": "ipython3",
   "version": "3.11.5"
  },
  "varInspector": {
   "cols": {
    "lenName": 16,
    "lenType": 16,
    "lenVar": 40
   },
   "kernels_config": {
    "python": {
     "delete_cmd_postfix": "",
     "delete_cmd_prefix": "del ",
     "library": "var_list.py",
     "varRefreshCmd": "print(var_dic_list())"
    },
    "r": {
     "delete_cmd_postfix": ") ",
     "delete_cmd_prefix": "rm(",
     "library": "var_list.r",
     "varRefreshCmd": "cat(var_dic_list()) "
    }
   },
   "types_to_exclude": [
    "module",
    "function",
    "builtin_function_or_method",
    "instance",
    "_Feature"
   ],
   "window_display": false
  }
 },
 "nbformat": 4,
 "nbformat_minor": 5
}

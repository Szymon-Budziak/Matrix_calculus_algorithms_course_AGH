{
 "cells": [
  {
   "cell_type": "markdown",
   "id": "8db53d01",
   "metadata": {},
   "source": [
    "# Pierwszy program\n",
    "\n",
    "**Realizowane tematy:** \n",
    "1) Algorytm eliminacji Gaussa generujący jedynki na przekątnej macierzy bez pivotingu\n",
    "\n",
    "2) Algorytm eliminacji Gaussa generujący jedynki na przekątnej macierzy z pivotingiem\n",
    "\n",
    "3) Algorytm eliminacji Gaussa z pivotingiem \n",
    "\n",
    "4) Algorytm LU faktoryzacji\n",
    "\n",
    "\n",
    "**Przygotowali:**\n",
    "- *Tomasz Bochnak*\n",
    "- *Szymon Budziak*"
   ]
  },
  {
   "cell_type": "markdown",
   "id": "6170b8f9",
   "metadata": {},
   "source": [
    "## Pseudokody algorytmów\n",
    "*Źródło: Wykład profesora Paszyńskiego z przedmiotu Rachunek Macierzowy*\n",
    "https://home.agh.edu.pl/~paszynsk/RM/RachunekMacierzowy2.pdf\n",
    "\n",
    "Pseudokody do wszystkich poniższych algorytmów są podane na stronie prof. Paszyńskiego podanej powyżej"
   ]
  },
  {
   "cell_type": "markdown",
   "id": "505cdbda",
   "metadata": {},
   "source": [
    "![](img/slajdy.png)"
   ]
  },
  {
   "cell_type": "code",
   "execution_count": 6,
   "id": "75dca586",
   "metadata": {},
   "outputs": [],
   "source": [
    "import numpy as np"
   ]
  },
  {
   "cell_type": "code",
   "execution_count": 26,
   "id": "2ebd68d4",
   "metadata": {},
   "outputs": [],
   "source": [
    "def naive_lu_factor(A):\n",
    "    \"\"\"\n",
    "        No pivoting.\n",
    "\n",
    "        Overwrite A with:\n",
    "            U (upper triangular) and (unit Lower triangular) L \n",
    "        Returns LU (Even though A is also overwritten)\n",
    "    \"\"\"\n",
    "    n = A.shape[0]\n",
    "    for k in range(n-1):                \n",
    "        for i in range(k+1,n):          \n",
    "            A[i,k] = A[i,k]/A[k,k]      # \" L[i,k] = A[i,k]/A[k,k] \"\n",
    "            for j in range(k+1,n):      \n",
    "                A[i,j] -= A[i,k]*A[k,j] # \" U[i,j] -= L[i,k]*A[k,j] \"\n",
    "\n",
    "    return A # (if you want)\n",
    "\n",
    "def lu_factor(A):\n",
    "    \"\"\"\n",
    "        LU factorization with partial pivorting\n",
    "\n",
    "        Overwrite A with: \n",
    "            U (upper triangular) and (unit Lower triangular) L \n",
    "        Return [LU,piv] \n",
    "            Where piv is 1d numpy array with row swap indices \n",
    "    \"\"\"\n",
    "    n = A.shape[0]\n",
    "    piv = np.arange(0,n)\n",
    "    for k in range(n-1):\n",
    "\n",
    "        # piv\n",
    "        max_row_index = np.argmax(abs(A[k:n,k])) + k\n",
    "        piv[[k,max_row_index]] = piv[[max_row_index,k]]\n",
    "        A[[k,max_row_index]] = A[[max_row_index,k]]\n",
    "\n",
    "        # LU \n",
    "        for i in range(k+1,n):          \n",
    "            A[i,k] = A[i,k]/A[k,k]      \n",
    "            for j in range(k+1,n):      \n",
    "                A[i,j] -= A[i,k]*A[k,j] \n",
    "\n",
    "    return [A,piv]\n",
    "\n",
    "def ufsub(L,b):\n",
    "    \"\"\" Unit row oriented forward substitution \"\"\"\n",
    "    for i in range(L.shape[0]): \n",
    "        for j in range(i):\n",
    "            b[i] -= L[i,j]*b[j]\n",
    "    return b\n",
    "\n",
    "def bsub(U,y):\n",
    "    \"\"\" Row oriented backward substitution \"\"\"\n",
    "    for i in range(U.shape[0]-1,-1,-1): \n",
    "        for j in range(i+1, U.shape[1]):\n",
    "            y[i] -= U[i,j]*y[j]\n",
    "        y[i] = y[i]/U[i,i]\n",
    "    return y"
   ]
  },
  {
   "cell_type": "code",
   "execution_count": 34,
   "id": "06e37c6c",
   "metadata": {},
   "outputs": [
    {
     "name": "stdout",
     "output_type": "stream",
     "text": [
      "scipy.linalg.lu version\n",
      "A: \n",
      " [[ 7  3 -1  2]\n",
      " [ 3  8  1 -4]\n",
      " [-1  1  4 -1]\n",
      " [ 2 -4 -1  6]]\n",
      "P:\n",
      " [[1. 0. 0. 0.]\n",
      " [0. 1. 0. 0.]\n",
      " [0. 0. 1. 0.]\n",
      " [0. 0. 0. 1.]]\n",
      "L: \n",
      " [[ 1.          0.          0.          0.        ]\n",
      " [ 0.42857143  1.          0.          0.        ]\n",
      " [-0.14285714  0.21276596  1.          0.        ]\n",
      " [ 0.28571429 -0.72340426  0.08982036  1.        ]]\n",
      "U: \n",
      " [[ 7.          3.         -1.          2.        ]\n",
      " [ 0.          6.71428571  1.42857143 -4.85714286]\n",
      " [ 0.          0.          3.55319149  0.31914894]\n",
      " [ 0.          0.          0.          1.88622754]]\n",
      "No partial pivoting\n",
      "Partial pivoting\n"
     ]
    }
   ],
   "source": [
    "# scipy linalg.lu to verify \n",
    "\n",
    "from scipy.linalg import lu\n",
    "\n",
    "A = np.array([[7, 3, -1, 2], [3, 8, 1, -4], [-1, 1, 4, -1], [2, -4, -1, 6]])\n",
    "P, L ,U = lu(A)\n",
    "print(\"scipy.linalg.lu version\")\n",
    "print(\"A: \\n\", A)\n",
    "print(\"P:\\n\", P)\n",
    "print(\"L: \\n\", L)\n",
    "print(\"U: \\n\", U)\n",
    "\n",
    "print(\"No partial pivoting\")\n",
    "LU = naive_lu_factor(A)\n",
    "y = ufsub( LU, b )\n",
    "x = bsub(  LU, y )\n",
    "\n",
    "print(\"Partial pivoting\")\n",
    "LU, piv = lu_factor(A)                      \n",
    "b = b[piv]\n",
    "y = ufsub( LU, b )\n",
    "x = bsub(  LU, y )\n",
    "\n"
   ]
  }
 ],
 "metadata": {
  "kernelspec": {
   "display_name": "Python 3 (ipykernel)",
   "language": "python",
   "name": "python3"
  },
  "language_info": {
   "codemirror_mode": {
    "name": "ipython",
    "version": 3
   },
   "file_extension": ".py",
   "mimetype": "text/x-python",
   "name": "python",
   "nbconvert_exporter": "python",
   "pygments_lexer": "ipython3",
   "version": "3.11.5"
  },
  "varInspector": {
   "cols": {
    "lenName": 16,
    "lenType": 16,
    "lenVar": 40
   },
   "kernels_config": {
    "python": {
     "delete_cmd_postfix": "",
     "delete_cmd_prefix": "del ",
     "library": "var_list.py",
     "varRefreshCmd": "print(var_dic_list())"
    },
    "r": {
     "delete_cmd_postfix": ") ",
     "delete_cmd_prefix": "rm(",
     "library": "var_list.r",
     "varRefreshCmd": "cat(var_dic_list()) "
    }
   },
   "types_to_exclude": [
    "module",
    "function",
    "builtin_function_or_method",
    "instance",
    "_Feature"
   ],
   "window_display": false
  }
 },
 "nbformat": 4,
 "nbformat_minor": 5
}

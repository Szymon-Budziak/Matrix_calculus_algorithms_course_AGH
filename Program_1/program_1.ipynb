{
 "cells": [
  {
   "cell_type": "markdown",
   "source": [
    "# Pierwszy program\n",
    "\n",
    "**Wybrany temat:** 1\n",
    "\n",
    "**Opis:**\n",
    "Dla macierzy o rozmiarze mniejszym lub równym $2^{l}$ ×$2^{l}$ algorytm tradycyjny. Dla macierzy o rozmiarze większym od $2^{l}$ ×$2^{l}$ algorytm rekurencyjny Binéta.\n",
    "\n",
    "**Przygotowali:**\n",
    "- *Tomasz Bochnak*\n",
    "- *Szymon Budziak*"
   ],
   "metadata": {
    "collapsed": false
   }
  },
  {
   "cell_type": "markdown",
   "source": [
    "## Importy"
   ],
   "metadata": {
    "collapsed": false
   }
  },
  {
   "cell_type": "code",
   "execution_count": 5,
   "outputs": [],
   "source": [
    "from time import perf_counter\n",
    "import numpy as np"
   ],
   "metadata": {
    "collapsed": false,
    "ExecuteTime": {
     "start_time": "2024-03-08T20:34:14.118204Z",
     "end_time": "2024-03-08T20:34:14.158631Z"
    }
   }
  },
  {
   "cell_type": "markdown",
   "source": [
    "## Algorytm tradycyjny"
   ],
   "metadata": {
    "collapsed": false
   }
  },
  {
   "cell_type": "code",
   "execution_count": 3,
   "outputs": [],
   "source": [
    "def traditional_algorithm(A: np.ndarray, B: np.ndarray) -> np.ndarray:\n",
    "    pass"
   ],
   "metadata": {
    "collapsed": false,
    "ExecuteTime": {
     "start_time": "2024-03-08T20:33:33.239740Z",
     "end_time": "2024-03-08T20:33:33.248581Z"
    }
   }
  },
  {
   "cell_type": "markdown",
   "source": [
    "## Algorytm rekurencyjny Binéta"
   ],
   "metadata": {
    "collapsed": false
   }
  },
  {
   "cell_type": "code",
   "execution_count": 9,
   "outputs": [],
   "source": [
    "def split_matrix(M: np.ndarray) -> tuple[np.ndarray, np.ndarray, np.ndarray, np.ndarray]:\n",
    "    \"\"\"\n",
    "    Split a matrix into 4 sub matrices.\n",
    "\n",
    "    Args:\n",
    "        M (np.ndarray): Matrix to split\n",
    "\n",
    "    Returns:\n",
    "        tuple[np.ndarray, np.ndarray, np.ndarray, np.ndarray]: Sub matrices\n",
    "    \"\"\"\n",
    "    n = M.shape[0] // 2\n",
    "    return M[:n, :n], M[:n, n:], M[n:, :n], M[n:, n:]\n",
    "\n",
    "\n",
    "def binet_algorithm(A: np.ndarray, B: np.ndarray) -> tuple[np.ndarray, int]:\n",
    "    \"\"\"\n",
    "    Binet algorithm for matrix multiplication with count of operations.\n",
    "\n",
    "    Args:\n",
    "        A (np.ndarray): First matrix to multiply\n",
    "        B (np.ndarray): Second matrix to multiply\n",
    "\n",
    "    Returns:\n",
    "        tuple[np.ndarray, int]: Result of the matrix multiplication and count of all operations.\n",
    "        np.ndarray: Result of the multiplication\n",
    "    \"\"\"\n",
    "    if A.shape == (1, 1):\n",
    "        return A * B, 1\n",
    "\n",
    "    A11, A12, A21, A22 = split_matrix(A)\n",
    "    B11, B12, B21, B22 = split_matrix(B)\n",
    "\n",
    "    C11a, count1a = binet_algorithm(A11, B11)\n",
    "    C11b, count1b = binet_algorithm(A12, B21)\n",
    "    C12a, count2a = binet_algorithm(A11, B12)\n",
    "    C12b, count2b = binet_algorithm(A12, B22)\n",
    "    C21a, count3a = binet_algorithm(A21, B11)\n",
    "    C21b, count3b = binet_algorithm(A22, B21)\n",
    "    C22a, count4a = binet_algorithm(A21, B12)\n",
    "    C22b, count4b = binet_algorithm(A22, B22)\n",
    "\n",
    "    C1 = C11a + C11b\n",
    "    C2 = C12a + C12b\n",
    "    C3 = C21a + C21b\n",
    "    C4 = C22a + C22b\n",
    "\n",
    "    count = count1a + count1b + count2a + count2b + count3a + count3b + count4a + count4b + 4 * np.prod(A.shape)\n",
    "\n",
    "    return np.vstack((np.hstack((C1, C2)), np.hstack((C3, C4)))), count"
   ],
   "metadata": {
    "collapsed": false,
    "ExecuteTime": {
     "start_time": "2024-03-08T20:41:38.089175Z",
     "end_time": "2024-03-08T20:41:38.138179Z"
    }
   }
  },
  {
   "cell_type": "markdown",
   "source": [
    "## Główna funkcja"
   ],
   "metadata": {
    "collapsed": false
   }
  },
  {
   "cell_type": "code",
   "execution_count": 12,
   "outputs": [],
   "source": [
    "def main(size: int, l: int) -> None:\n",
    "    A = np.random.randint(low=0, high=10, size=(size, size))\n",
    "    B = np.random.randint(low=0, high=10, size=(size, size))\n",
    "\n",
    "    start = perf_counter()\n",
    "\n",
    "    if size <= l:\n",
    "        matrix_method = 'Traditional algorithm'\n",
    "        result_matrix, total_operations = traditional_algorithm(A, B)\n",
    "    else:\n",
    "        matrix_method = 'Binet algorithm'\n",
    "        result_matrix, total_operations = binet_algorithm(A, B)\n",
    "\n",
    "    end = perf_counter()\n",
    "\n",
    "    print(f'Matrix A:\\n{A}\\n')\n",
    "    print(f'Matrix B:\\n{A}\\n')\n",
    "    print(f'Result matrix after multiplication:\\n{result_matrix}\\n')\n",
    "    print(f'Total execution time of {matrix_method}: {end - start:.6f} seconds')\n",
    "    print(f'Total number of operations: {total_operations}')"
   ],
   "metadata": {
    "collapsed": false,
    "ExecuteTime": {
     "start_time": "2024-03-08T20:42:34.802493Z",
     "end_time": "2024-03-08T20:42:34.806763Z"
    }
   }
  },
  {
   "cell_type": "code",
   "execution_count": 13,
   "outputs": [
    {
     "name": "stdout",
     "output_type": "stream",
     "text": [
      "Matrix A:\n",
      "[[3 9 6 1]\n",
      " [8 6 5 0]\n",
      " [1 6 7 7]\n",
      " [1 8 1 9]]\n",
      "\n",
      "Matrix B:\n",
      "[[3 9 6 1]\n",
      " [8 6 5 0]\n",
      " [1 6 7 7]\n",
      " [1 8 1 9]]\n",
      "\n",
      "Result matrix after multiplication:\n",
      "[[ 75 101  94  38]\n",
      " [100  72  83  33]\n",
      " [104  98 125  77]\n",
      " [116  80 105  91]]\n",
      "\n",
      "Total execution time of Binet algorithm: 0.000818 seconds\n",
      "Total number of operations: 256\n"
     ]
    }
   ],
   "source": [
    "size = 4\n",
    "l = 3\n",
    "\n",
    "main(size, l)"
   ],
   "metadata": {
    "collapsed": false,
    "ExecuteTime": {
     "start_time": "2024-03-08T20:42:35.178840Z",
     "end_time": "2024-03-08T20:42:35.185612Z"
    }
   }
  },
  {
   "cell_type": "code",
   "execution_count": null,
   "outputs": [],
   "source": [],
   "metadata": {
    "collapsed": false
   }
  }
 ],
 "metadata": {
  "kernelspec": {
   "display_name": "Python 3",
   "language": "python",
   "name": "python3"
  },
  "language_info": {
   "codemirror_mode": {
    "name": "ipython",
    "version": 2
   },
   "file_extension": ".py",
   "mimetype": "text/x-python",
   "name": "python",
   "nbconvert_exporter": "python",
   "pygments_lexer": "ipython2",
   "version": "2.7.6"
  }
 },
 "nbformat": 4,
 "nbformat_minor": 0
}

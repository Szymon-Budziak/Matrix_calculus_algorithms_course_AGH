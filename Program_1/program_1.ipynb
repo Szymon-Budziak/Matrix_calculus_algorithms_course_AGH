{
 "cells": [
  {
   "cell_type": "markdown",
   "source": [
    "# Pierwszy program\n",
    "\n",
    "**Wybrany temat:** 1\n",
    "\n",
    "**Opis:**\n",
    "Dla macierzy o rozmiarze mniejszym lub równym $2^{l}$ ×$2^{l}$ algorytm tradycyjny. Dla macierzy o rozmiarze większym od $2^{l}$ ×$2^{l}$ algorytm rekurencyjny Binéta.\n",
    "\n",
    "**Przygotowali:**\n",
    "- *Tomasz Bochnak*\n",
    "- *Szymon Budziak*"
   ],
   "metadata": {
    "collapsed": false
   }
  },
  {
   "cell_type": "markdown",
   "source": [
    "## Importy"
   ],
   "metadata": {
    "collapsed": false
   }
  },
  {
   "cell_type": "code",
   "execution_count": 5,
   "outputs": [],
   "source": [
    "from time import perf_counter\n",
    "import numpy as np"
   ],
   "metadata": {
    "collapsed": false,
    "ExecuteTime": {
     "start_time": "2024-03-08T20:34:14.118204Z",
     "end_time": "2024-03-08T20:34:14.158631Z"
    }
   }
  },
  {
   "cell_type": "markdown",
   "source": [
    "## Algorytm tradycyjny"
   ],
   "metadata": {
    "collapsed": false
   }
  },
  {
   "cell_type": "code",
   "execution_count": 3,
   "outputs": [],
   "source": [
    "def traditional_algorithm(A: np.ndarray, B: np.ndarray) -> np.ndarray:\n",
    "    pass"
   ],
   "metadata": {
    "collapsed": false,
    "ExecuteTime": {
     "start_time": "2024-03-08T20:33:33.239740Z",
     "end_time": "2024-03-08T20:33:33.248581Z"
    }
   }
  },
  {
   "cell_type": "markdown",
   "source": [
    "## Algorytm rekurencyjny Binéta"
   ],
   "metadata": {
    "collapsed": false
   }
  },
  {
   "cell_type": "code",
   "execution_count": 4,
   "outputs": [],
   "source": [
    "def split_matrix(M: np.ndarray) -> tuple[np.ndarray, np.ndarray, np.ndarray, np.ndarray]:\n",
    "    \"\"\"\n",
    "    Split a matrix into 4 sub matrices.\n",
    "\n",
    "    Args:\n",
    "        M (np.ndarray): Matrix to split\n",
    "\n",
    "    Returns:\n",
    "        tuple[np.ndarray, np.ndarray, np.ndarray, np.ndarray]: Sub matrices\n",
    "    \"\"\"\n",
    "    n = M.shape[0] // 2\n",
    "    return M[:n, :n], M[:n, n:], M[n:, :n], M[n:, n:]\n",
    "\n",
    "\n",
    "def binet_algorithm(A: np.ndarray, B: np.ndarray) -> np.ndarray:\n",
    "    \"\"\"\n",
    "    Binet algorithm for matrix multiplication.\n",
    "\n",
    "    Args:\n",
    "        A (np.ndarray): First matrix to multiply\n",
    "        B (np.ndarray): Second matrix to multiply\n",
    "\n",
    "    Returns:\n",
    "        np.ndarray: Result of the multiplication\n",
    "    \"\"\"\n",
    "    if A.shape == (1, 1):\n",
    "        return A * B\n",
    "\n",
    "    A11, A12, A21, A22 = split_matrix(A)\n",
    "    B11, B12, B21, B22 = split_matrix(B)\n",
    "\n",
    "    C1 = binet_algorithm(A11, B11) + binet_algorithm(A12, B21)\n",
    "    C2 = binet_algorithm(A11, B12) + binet_algorithm(A12, B22)\n",
    "    C3 = binet_algorithm(A21, B11) + binet_algorithm(A22, B21)\n",
    "    C4 = binet_algorithm(A21, B12) + binet_algorithm(A22, B22)\n",
    "\n",
    "    return np.vstack((np.hstack((C1, C2)), np.hstack((C3, C4))))"
   ],
   "metadata": {
    "collapsed": false,
    "ExecuteTime": {
     "start_time": "2024-03-08T20:33:53.164053Z",
     "end_time": "2024-03-08T20:33:53.170047Z"
    }
   }
  },
  {
   "cell_type": "markdown",
   "source": [
    "## Główna funkcja"
   ],
   "metadata": {
    "collapsed": false
   }
  },
  {
   "cell_type": "code",
   "execution_count": 7,
   "outputs": [],
   "source": [
    "def main(size: int, l: int) -> None:\n",
    "    A = np.random.randint(low=0, high=10, size=(size, size))\n",
    "    B = np.random.randint(low=0, high=10, size=(size, size))\n",
    "\n",
    "    start = perf_counter()\n",
    "\n",
    "    if size <= l:\n",
    "        matrix_method = 'Traditional algorithm'\n",
    "        result = traditional_algorithm(A, B)\n",
    "    else:\n",
    "        matrix_method = 'Binet algorithm'\n",
    "        result = binet_algorithm(A, B)\n",
    "\n",
    "    end = perf_counter()\n",
    "\n",
    "    print(f'Matrix A:\\n{A}\\n')\n",
    "    print(f'Matrix B:\\n{A}\\n')\n",
    "    print(f'Result matrix after multiplication:\\n{result}\\n')\n",
    "    print(f'Total execution time of {matrix_method}: {end - start:.6f} seconds')"
   ],
   "metadata": {
    "collapsed": false,
    "ExecuteTime": {
     "start_time": "2024-03-08T20:34:27.251093Z",
     "end_time": "2024-03-08T20:34:27.260561Z"
    }
   }
  },
  {
   "cell_type": "code",
   "execution_count": 8,
   "outputs": [
    {
     "name": "stdout",
     "output_type": "stream",
     "text": [
      "Matrix A:\n",
      "[[7 0 2 2]\n",
      " [0 3 5 8]\n",
      " [2 7 2 0]\n",
      " [7 3 0 4]]\n",
      "\n",
      "Matrix B:\n",
      "[[7 0 2 2]\n",
      " [0 3 5 8]\n",
      " [2 7 2 0]\n",
      " [7 3 0 4]]\n",
      "\n",
      "Result matrix after multiplication:\n",
      "[[ 54  22  73  25]\n",
      " [104  64  28  37]\n",
      " [ 71  16  26  73]\n",
      " [ 73  12  67  48]]\n",
      "\n",
      "Total execution time of Binet algorithm: 0.001784 seconds\n"
     ]
    }
   ],
   "source": [
    "size = 4\n",
    "l = 3\n",
    "\n",
    "main(size, l)"
   ],
   "metadata": {
    "collapsed": false,
    "ExecuteTime": {
     "start_time": "2024-03-08T20:35:16.491648Z",
     "end_time": "2024-03-08T20:35:16.530854Z"
    }
   }
  },
  {
   "cell_type": "code",
   "execution_count": null,
   "outputs": [],
   "source": [],
   "metadata": {
    "collapsed": false
   }
  }
 ],
 "metadata": {
  "kernelspec": {
   "display_name": "Python 3",
   "language": "python",
   "name": "python3"
  },
  "language_info": {
   "codemirror_mode": {
    "name": "ipython",
    "version": 2
   },
   "file_extension": ".py",
   "mimetype": "text/x-python",
   "name": "python",
   "nbconvert_exporter": "python",
   "pygments_lexer": "ipython2",
   "version": "2.7.6"
  }
 },
 "nbformat": 4,
 "nbformat_minor": 0
}

{
 "cells": [
  {
   "cell_type": "markdown",
   "source": [
    "# Pierwszy program\n",
    "\n",
    "**Wybrany temat:** 1\n",
    "\n",
    "**Opis:**\n",
    "Dla macierzy o rozmiarze mniejszym lub równym $2^{l}$ ×$2^{l}$ algorytm tradycyjny. Dla macierzy o rozmiarze większym od $2^{l}$ ×$2^{l}$ algorytm rekurencyjny Binéta.\n",
    "\n",
    "**Przygotowali:**\n",
    "- *Tomasz Bochnak*\n",
    "- *Szymon Budziak*"
   ],
   "metadata": {
    "collapsed": false
   }
  },
  {
   "cell_type": "markdown",
   "source": [
    "## Importy"
   ],
   "metadata": {
    "collapsed": false
   }
  },
  {
   "cell_type": "code",
   "execution_count": 1,
   "outputs": [],
   "source": [
    "from time import perf_counter\n",
    "from typing import Union\n",
    "\n",
    "import numpy as np\n",
    "import matplotlib.pyplot as plt\n",
    "\n",
    "np.random.seed(42)"
   ],
   "metadata": {
    "collapsed": false,
    "ExecuteTime": {
     "start_time": "2024-03-08T20:53:27.267571Z",
     "end_time": "2024-03-08T20:53:27.596817Z"
    }
   }
  },
  {
   "cell_type": "markdown",
   "source": [
    "## Algorytm tradycyjny"
   ],
   "metadata": {
    "collapsed": false
   }
  },
  {
   "cell_type": "code",
   "execution_count": 2,
   "outputs": [],
   "source": [
    "def traditional_algorithm(A: np.ndarray, B: np.ndarray) -> np.ndarray:\n",
    "    pass"
   ],
   "metadata": {
    "collapsed": false,
    "ExecuteTime": {
     "start_time": "2024-03-08T20:49:09.472699Z",
     "end_time": "2024-03-08T20:49:09.484017Z"
    }
   }
  },
  {
   "cell_type": "markdown",
   "source": [
    "## Algorytm rekurencyjny Binéta"
   ],
   "metadata": {
    "collapsed": false
   }
  },
  {
   "cell_type": "code",
   "execution_count": 3,
   "outputs": [],
   "source": [
    "def split_matrix(M: np.ndarray) -> tuple[np.ndarray, np.ndarray, np.ndarray, np.ndarray]:\n",
    "    \"\"\"\n",
    "    Split a matrix into 4 sub matrices.\n",
    "\n",
    "    Args:\n",
    "        M (np.ndarray): Matrix to split\n",
    "\n",
    "    Returns:\n",
    "        tuple[np.ndarray, np.ndarray, np.ndarray, np.ndarray]: Sub matrices\n",
    "    \"\"\"\n",
    "    n = M.shape[0] // 2\n",
    "    return M[:n, :n], M[:n, n:], M[n:, :n], M[n:, n:]\n",
    "\n",
    "\n",
    "def binet_algorithm(A: np.ndarray, B: np.ndarray) -> tuple[np.ndarray, int]:\n",
    "    \"\"\"\n",
    "    Binet algorithm for matrix multiplication with count of operations.\n",
    "\n",
    "    Args:\n",
    "        A (np.ndarray): First matrix to multiply\n",
    "        B (np.ndarray): Second matrix to multiply\n",
    "\n",
    "    Returns:\n",
    "        tuple[np.ndarray, int]: Result of the matrix multiplication and count of all operations.\n",
    "        np.ndarray: Result of the multiplication\n",
    "    \"\"\"\n",
    "    if A.shape == (1, 1):\n",
    "        return A * B, 1\n",
    "\n",
    "    A11, A12, A21, A22 = split_matrix(A)\n",
    "    B11, B12, B21, B22 = split_matrix(B)\n",
    "\n",
    "    C11a, count1a = binet_algorithm(A11, B11)\n",
    "    C11b, count1b = binet_algorithm(A12, B21)\n",
    "    C12a, count2a = binet_algorithm(A11, B12)\n",
    "    C12b, count2b = binet_algorithm(A12, B22)\n",
    "    C21a, count3a = binet_algorithm(A21, B11)\n",
    "    C21b, count3b = binet_algorithm(A22, B21)\n",
    "    C22a, count4a = binet_algorithm(A21, B12)\n",
    "    C22b, count4b = binet_algorithm(A22, B22)\n",
    "\n",
    "    C1 = C11a + C11b\n",
    "    C2 = C12a + C12b\n",
    "    C3 = C21a + C21b\n",
    "    C4 = C22a + C22b\n",
    "\n",
    "    count = count1a + count1b + count2a + count2b + count3a + count3b + count4a + count4b + 4 * np.prod(A.shape)\n",
    "\n",
    "    return np.vstack((np.hstack((C1, C2)), np.hstack((C3, C4)))), count"
   ],
   "metadata": {
    "collapsed": false,
    "ExecuteTime": {
     "start_time": "2024-03-08T20:49:10.102935Z",
     "end_time": "2024-03-08T20:49:10.113931Z"
    }
   }
  },
  {
   "cell_type": "markdown",
   "source": [
    "## Główna funkcja"
   ],
   "metadata": {
    "collapsed": false
   }
  },
  {
   "cell_type": "code",
   "execution_count": 4,
   "outputs": [],
   "source": [
    "def main(size: int, l: int, verbose=False) -> Union[tuple[np.ndarray, int, float], None]:\n",
    "    A = np.random.randint(low=0, high=10, size=(size, size))\n",
    "    B = np.random.randint(low=0, high=10, size=(size, size))\n",
    "\n",
    "    start = perf_counter()\n",
    "\n",
    "    if size <= l:\n",
    "        matrix_method = 'Traditional algorithm'\n",
    "        result_matrix, total_operations = traditional_algorithm(A, B)\n",
    "    else:\n",
    "        matrix_method = 'Binet algorithm'\n",
    "        result_matrix, total_operations = binet_algorithm(A, B)\n",
    "\n",
    "    end = perf_counter()\n",
    "\n",
    "    if verbose:\n",
    "        print(f'Matrix A:\\n{A}\\n')\n",
    "        print(f'Matrix B:\\n{A}\\n')\n",
    "        print(f'Result matrix after multiplication:\\n{result_matrix}\\n')\n",
    "        print(f'Total execution time of {matrix_method}: {end - start:.6f} seconds')\n",
    "        print(f'Total number of operations: {total_operations}')\n",
    "    else:\n",
    "        return result_matrix, total_operations, end - start"
   ],
   "metadata": {
    "collapsed": false,
    "ExecuteTime": {
     "start_time": "2024-03-08T20:51:42.663702Z",
     "end_time": "2024-03-08T20:51:42.674784Z"
    }
   }
  },
  {
   "cell_type": "markdown",
   "source": [
    "### Przykład mnożenia macierzy 4x4 algorytmem tradycyjnym"
   ],
   "metadata": {
    "collapsed": false
   }
  },
  {
   "cell_type": "code",
   "execution_count": 5,
   "outputs": [
    {
     "ename": "TypeError",
     "evalue": "cannot unpack non-iterable NoneType object",
     "output_type": "error",
     "traceback": [
      "\u001B[0;31m---------------------------------------------------------------------------\u001B[0m",
      "\u001B[0;31mTypeError\u001B[0m                                 Traceback (most recent call last)",
      "Cell \u001B[0;32mIn[5], line 4\u001B[0m\n\u001B[1;32m      1\u001B[0m size \u001B[38;5;241m=\u001B[39m \u001B[38;5;241m4\u001B[39m\n\u001B[1;32m      2\u001B[0m l \u001B[38;5;241m=\u001B[39m \u001B[38;5;241m10\u001B[39m\n\u001B[0;32m----> 4\u001B[0m \u001B[43mmain\u001B[49m\u001B[43m(\u001B[49m\u001B[43msize\u001B[49m\u001B[43m,\u001B[49m\u001B[43m \u001B[49m\u001B[43ml\u001B[49m\u001B[43m,\u001B[49m\u001B[43m \u001B[49m\u001B[43mverbose\u001B[49m\u001B[38;5;241;43m=\u001B[39;49m\u001B[38;5;28;43;01mTrue\u001B[39;49;00m\u001B[43m)\u001B[49m\n",
      "Cell \u001B[0;32mIn[4], line 9\u001B[0m, in \u001B[0;36mmain\u001B[0;34m(size, l, verbose)\u001B[0m\n\u001B[1;32m      7\u001B[0m \u001B[38;5;28;01mif\u001B[39;00m size \u001B[38;5;241m<\u001B[39m\u001B[38;5;241m=\u001B[39m l:\n\u001B[1;32m      8\u001B[0m     matrix_method \u001B[38;5;241m=\u001B[39m \u001B[38;5;124m'\u001B[39m\u001B[38;5;124mTraditional algorithm\u001B[39m\u001B[38;5;124m'\u001B[39m\n\u001B[0;32m----> 9\u001B[0m     result_matrix, total_operations \u001B[38;5;241m=\u001B[39m traditional_algorithm(A, B)\n\u001B[1;32m     10\u001B[0m \u001B[38;5;28;01melse\u001B[39;00m:\n\u001B[1;32m     11\u001B[0m     matrix_method \u001B[38;5;241m=\u001B[39m \u001B[38;5;124m'\u001B[39m\u001B[38;5;124mBinet algorithm\u001B[39m\u001B[38;5;124m'\u001B[39m\n",
      "\u001B[0;31mTypeError\u001B[0m: cannot unpack non-iterable NoneType object"
     ]
    }
   ],
   "source": [
    "size = 4\n",
    "l = 10\n",
    "\n",
    "main(size, l, verbose=True)"
   ],
   "metadata": {
    "collapsed": false,
    "ExecuteTime": {
     "start_time": "2024-03-08T20:45:29.438877Z",
     "end_time": "2024-03-08T20:45:29.443906Z"
    }
   }
  },
  {
   "cell_type": "markdown",
   "source": [
    "### Przykład mnożenia macierzy 4x4 algorytmem rekurencyjnym Bineta"
   ],
   "metadata": {
    "collapsed": false
   }
  },
  {
   "cell_type": "code",
   "execution_count": 7,
   "outputs": [
    {
     "name": "stdout",
     "output_type": "stream",
     "text": [
      "Matrix A:\n",
      "[[1 9 3 7]\n",
      " [6 8 7 4]\n",
      " [1 4 7 9]\n",
      " [8 8 0 8]]\n",
      "\n",
      "Matrix B:\n",
      "[[1 9 3 7]\n",
      " [6 8 7 4]\n",
      " [1 4 7 9]\n",
      " [8 8 0 8]]\n",
      "\n",
      "Result matrix after multiplication:\n",
      "[[118 140  73  63]\n",
      " [157 154  96  36]\n",
      " [119 131  83  81]\n",
      " [136 192 120  72]]\n",
      "\n",
      "Total execution time of Binet algorithm: 0.000696 seconds\n",
      "Total number of operations: 256\n"
     ]
    }
   ],
   "source": [
    "size = 4\n",
    "l = 3\n",
    "\n",
    "main(size, l, verbose=True)"
   ],
   "metadata": {
    "collapsed": false,
    "ExecuteTime": {
     "start_time": "2024-03-08T20:54:57.858484Z",
     "end_time": "2024-03-08T20:54:57.866035Z"
    }
   }
  },
  {
   "cell_type": "markdown",
   "source": [
    "## Opracowanie"
   ],
   "metadata": {
    "collapsed": false
   }
  },
  {
   "cell_type": "code",
   "execution_count": 8,
   "outputs": [],
   "source": [
    "def plot_multiplication():\n",
    "    matrix_size = []\n",
    "    matrix_time = []\n",
    "\n",
    "    for k in range(2, 17):\n",
    "        _, _, time = main(k, 7)\n",
    "\n",
    "        matrix_size.append(k)\n",
    "        matrix_size.append(time)\n",
    "\n",
    "    plt.plot(matrix_size, matrix_time)"
   ],
   "metadata": {
    "collapsed": false,
    "ExecuteTime": {
     "start_time": "2024-03-08T20:54:59.021822Z",
     "end_time": "2024-03-08T20:54:59.031874Z"
    }
   }
  },
  {
   "cell_type": "code",
   "execution_count": null,
   "outputs": [],
   "source": [
    "plot_multiplication()"
   ],
   "metadata": {
    "collapsed": false
   }
  }
 ],
 "metadata": {
  "kernelspec": {
   "display_name": "Python 3",
   "language": "python",
   "name": "python3"
  },
  "language_info": {
   "codemirror_mode": {
    "name": "ipython",
    "version": 2
   },
   "file_extension": ".py",
   "mimetype": "text/x-python",
   "name": "python",
   "nbconvert_exporter": "python",
   "pygments_lexer": "ipython2",
   "version": "2.7.6"
  }
 },
 "nbformat": 4,
 "nbformat_minor": 0
}

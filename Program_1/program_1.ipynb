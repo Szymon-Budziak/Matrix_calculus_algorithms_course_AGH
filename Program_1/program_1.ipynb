{
 "cells": [
  {
   "cell_type": "markdown",
   "metadata": {},
   "source": [
    "# Pierwszy program\n",
    "\n",
    "**Wybrany temat:** 1\n",
    "\n",
    "**Opis:**\n",
    "Dla macierzy o rozmiarze mniejszym lub równym $2^{l}$ ×$2^{l}$ algorytm tradycyjny. Dla macierzy o rozmiarze większym od $2^{l}$ ×$2^{l}$ algorytm rekurencyjny Binéta.\n",
    "\n",
    "**Przygotowali:**\n",
    "- *Tomasz Bochnak*\n",
    "- *Szymon Budziak*"
   ]
  },
  {
   "cell_type": "markdown",
   "metadata": {},
   "source": [
    "## Importy"
   ]
  },
  {
   "cell_type": "code",
   "execution_count": 1,
   "metadata": {
    "ExecuteTime": {
     "end_time": "2024-03-08T20:53:27.596817Z",
     "start_time": "2024-03-08T20:53:27.267571Z"
    }
   },
   "outputs": [],
   "source": [
    "from time import perf_counter\n",
    "from typing import Union\n",
    "\n",
    "import numpy as np\n",
    "import matplotlib.pyplot as plt\n",
    "\n",
    "np.random.seed(42)"
   ]
  },
  {
   "cell_type": "markdown",
   "metadata": {},
   "source": [
    "## Algorytm tradycyjny"
   ]
  },
  {
   "cell_type": "code",
   "execution_count": 2,
   "metadata": {
    "ExecuteTime": {
     "end_time": "2024-03-08T20:49:09.484017Z",
     "start_time": "2024-03-08T20:49:09.472699Z"
    }
   },
   "outputs": [],
   "source": [
    "def traditional_algorithm(A: np.ndarray, B: np.ndarray) -> np.ndarray:\n",
    "    \"\"\"\n",
    "    Traditional algorithm for matrix multiplication\n",
    "    \n",
    "    Args:\n",
    "        A (np.ndarray), B (np.ndarray): Matrixes\n",
    "\n",
    "    Returns:\n",
    "        (np.ndarray)\n",
    "    \"\"\"\n",
    "    sum_ = 0\n",
    "    SIZE = A.size()\n",
    "    multiply = np.ndarray((SIZE,SIZE))\n",
    "    for i in range(SIZE):\n",
    "        for j in range(SIZE):\n",
    "            for k in range(SIZE):\n",
    "                multiply[i][j] = first[i][k]*second[k][j]\n",
    "            multiply[i][j] = sum\n",
    "            sum = 0\n",
    "    \n",
    "    pass"
   ]
  },
  {
   "cell_type": "markdown",
   "metadata": {},
   "source": [
    "## Algorytm rekurencyjny Binéta"
   ]
  },
  {
   "cell_type": "code",
   "execution_count": 3,
   "metadata": {
    "ExecuteTime": {
     "end_time": "2024-03-08T20:49:10.113931Z",
     "start_time": "2024-03-08T20:49:10.102935Z"
    }
   },
   "outputs": [],
   "source": [
    "def split_matrix(M: np.ndarray) -> tuple[np.ndarray, np.ndarray, np.ndarray, np.ndarray]:\n",
    "    \"\"\"\n",
    "    Split a matrix into 4 sub matrices.\n",
    "\n",
    "    Args:\n",
    "        M (np.ndarray): Matrix to split\n",
    "\n",
    "    Returns:\n",
    "        tuple[np.ndarray, np.ndarray, np.ndarray, np.ndarray]: Sub matrices\n",
    "    \"\"\"\n",
    "    n = M.shape[0] // 2\n",
    "    return M[:n, :n], M[:n, n:], M[n:, :n], M[n:, n:]\n",
    "\n",
    "\n",
    "def binet_algorithm(A: np.ndarray, B: np.ndarray) -> tuple[np.ndarray, int]:\n",
    "    \"\"\"\n",
    "    Binet algorithm for matrix multiplication with count of operations.\n",
    "\n",
    "    Args:\n",
    "        A (np.ndarray): First matrix to multiply\n",
    "        B (np.ndarray): Second matrix to multiply\n",
    "\n",
    "    Returns:\n",
    "        tuple[np.ndarray, int]: Result of the matrix multiplication and count of all operations.\n",
    "        np.ndarray: Result of the multiplication\n",
    "    \"\"\"\n",
    "    if A.shape == (1, 1):\n",
    "        return A * B, 1\n",
    "\n",
    "    A11, A12, A21, A22 = split_matrix(A)\n",
    "    B11, B12, B21, B22 = split_matrix(B)\n",
    "\n",
    "    C11a, count1a = binet_algorithm(A11, B11)\n",
    "    C11b, count1b = binet_algorithm(A12, B21)\n",
    "    C12a, count2a = binet_algorithm(A11, B12)\n",
    "    C12b, count2b = binet_algorithm(A12, B22)\n",
    "    C21a, count3a = binet_algorithm(A21, B11)\n",
    "    C21b, count3b = binet_algorithm(A22, B21)\n",
    "    C22a, count4a = binet_algorithm(A21, B12)\n",
    "    C22b, count4b = binet_algorithm(A22, B22)\n",
    "\n",
    "    C1 = C11a + C11b\n",
    "    C2 = C12a + C12b\n",
    "    C3 = C21a + C21b\n",
    "    C4 = C22a + C22b\n",
    "\n",
    "    count = count1a + count1b + count2a + count2b + count3a + count3b + count4a + count4b + 4 * np.prod(A.shape)\n",
    "\n",
    "    return np.vstack((np.hstack((C1, C2)), np.hstack((C3, C4)))), count"
   ]
  },
  {
   "cell_type": "markdown",
   "metadata": {},
   "source": [
    "## Główna funkcja"
   ]
  },
  {
   "cell_type": "code",
   "execution_count": 4,
   "metadata": {
    "ExecuteTime": {
     "end_time": "2024-03-08T20:51:42.674784Z",
     "start_time": "2024-03-08T20:51:42.663702Z"
    }
   },
   "outputs": [],
   "source": [
    "def main(size: int, l: int, verbose=False) -> Union[tuple[np.ndarray, int, float], None]:\n",
    "    A = np.random.randint(low=0, high=10, size=(size, size))\n",
    "    B = np.random.randint(low=0, high=10, size=(size, size))\n",
    "\n",
    "    start = perf_counter()\n",
    "\n",
    "    if size <= l:\n",
    "        matrix_method = 'Traditional algorithm'\n",
    "        result_matrix, total_operations = traditional_algorithm(A, B)\n",
    "    else:\n",
    "        matrix_method = 'Binet algorithm'\n",
    "        result_matrix, total_operations = binet_algorithm(A, B)\n",
    "\n",
    "    end = perf_counter()\n",
    "\n",
    "    if verbose:\n",
    "        print(f'Matrix A:\\n{A}\\n')\n",
    "        print(f'Matrix B:\\n{A}\\n')\n",
    "        print(f'Result matrix after multiplication:\\n{result_matrix}\\n')\n",
    "        print(f'Total execution time of {matrix_method}: {end - start:.6f} seconds')\n",
    "        print(f'Total number of operations: {total_operations}')\n",
    "    else:\n",
    "        return result_matrix, total_operations, end - start"
   ]
  },
  {
   "cell_type": "markdown",
   "metadata": {},
   "source": [
    "### Przykład mnożenia macierzy 4x4 algorytmem tradycyjnym"
   ]
  },
  {
   "cell_type": "code",
   "execution_count": 5,
   "metadata": {
    "ExecuteTime": {
     "end_time": "2024-03-08T20:45:29.443906Z",
     "start_time": "2024-03-08T20:45:29.438877Z"
    }
   },
   "outputs": [
    {
     "ename": "TypeError",
     "evalue": "cannot unpack non-iterable NoneType object",
     "output_type": "error",
     "traceback": [
      "\u001b[0;31m---------------------------------------------------------------------------\u001b[0m",
      "\u001b[0;31mTypeError\u001b[0m                                 Traceback (most recent call last)",
      "Cell \u001b[0;32mIn[5], line 4\u001b[0m\n\u001b[1;32m      1\u001b[0m size \u001b[38;5;241m=\u001b[39m \u001b[38;5;241m4\u001b[39m\n\u001b[1;32m      2\u001b[0m l \u001b[38;5;241m=\u001b[39m \u001b[38;5;241m10\u001b[39m\n\u001b[0;32m----> 4\u001b[0m main(size, l, verbose\u001b[38;5;241m=\u001b[39m\u001b[38;5;28;01mTrue\u001b[39;00m)\n",
      "Cell \u001b[0;32mIn[4], line 9\u001b[0m, in \u001b[0;36mmain\u001b[0;34m(size, l, verbose)\u001b[0m\n\u001b[1;32m      7\u001b[0m \u001b[38;5;28;01mif\u001b[39;00m size \u001b[38;5;241m<\u001b[39m\u001b[38;5;241m=\u001b[39m l:\n\u001b[1;32m      8\u001b[0m     matrix_method \u001b[38;5;241m=\u001b[39m \u001b[38;5;124m'\u001b[39m\u001b[38;5;124mTraditional algorithm\u001b[39m\u001b[38;5;124m'\u001b[39m\n\u001b[0;32m----> 9\u001b[0m     result_matrix, total_operations \u001b[38;5;241m=\u001b[39m traditional_algorithm(A, B)\n\u001b[1;32m     10\u001b[0m \u001b[38;5;28;01melse\u001b[39;00m:\n\u001b[1;32m     11\u001b[0m     matrix_method \u001b[38;5;241m=\u001b[39m \u001b[38;5;124m'\u001b[39m\u001b[38;5;124mBinet algorithm\u001b[39m\u001b[38;5;124m'\u001b[39m\n",
      "\u001b[0;31mTypeError\u001b[0m: cannot unpack non-iterable NoneType object"
     ]
    }
   ],
   "source": [
    "size = 4\n",
    "l = 10\n",
    "\n",
    "main(size, l, verbose=True)"
   ]
  },
  {
   "cell_type": "markdown",
   "metadata": {},
   "source": [
    "### Przykład mnożenia macierzy 4x4 algorytmem rekurencyjnym Bineta"
   ]
  },
  {
   "cell_type": "code",
   "execution_count": 6,
   "metadata": {
    "ExecuteTime": {
     "end_time": "2024-03-08T20:54:57.866035Z",
     "start_time": "2024-03-08T20:54:57.858484Z"
    }
   },
   "outputs": [
    {
     "name": "stdout",
     "output_type": "stream",
     "text": [
      "Matrix A:\n",
      "[[4 2 6 4]\n",
      " [8 6 1 3]\n",
      " [8 1 9 8]\n",
      " [9 4 1 3]]\n",
      "\n",
      "Matrix B:\n",
      "[[4 2 6 4]\n",
      " [8 6 1 3]\n",
      " [8 1 9 8]\n",
      " [9 4 1 3]]\n",
      "\n",
      "Result matrix after multiplication:\n",
      "[[ 48  80  56  96]\n",
      " [ 76  82  66  54]\n",
      " [ 84 142  76 156]\n",
      " [ 76  87  54  48]]\n",
      "\n",
      "Total execution time of Binet algorithm: 0.001075 seconds\n",
      "Total number of operations: 256\n"
     ]
    }
   ],
   "source": [
    "size = 4\n",
    "l = 3\n",
    "\n",
    "main(size, l, verbose=True)"
   ]
  },
  {
   "cell_type": "markdown",
   "metadata": {},
   "source": [
    "## Opracowanie"
   ]
  },
  {
   "cell_type": "code",
   "execution_count": 7,
   "metadata": {
    "ExecuteTime": {
     "end_time": "2024-03-08T20:54:59.031874Z",
     "start_time": "2024-03-08T20:54:59.021822Z"
    }
   },
   "outputs": [],
   "source": [
    "def plot_multiplication():\n",
    "    matrix_size = []\n",
    "    matrix_time = []\n",
    "\n",
    "    for k in range(2, 17):\n",
    "        _, _, time = main(k, 7)\n",
    "\n",
    "        matrix_size.append(k)\n",
    "        matrix_size.append(time)\n",
    "\n",
    "    plt.plot(matrix_size, matrix_time)"
   ]
  },
  {
   "cell_type": "code",
   "execution_count": 8,
   "metadata": {},
   "outputs": [
    {
     "ename": "TypeError",
     "evalue": "cannot unpack non-iterable NoneType object",
     "output_type": "error",
     "traceback": [
      "\u001b[0;31m---------------------------------------------------------------------------\u001b[0m",
      "\u001b[0;31mTypeError\u001b[0m                                 Traceback (most recent call last)",
      "Cell \u001b[0;32mIn[8], line 1\u001b[0m\n\u001b[0;32m----> 1\u001b[0m plot_multiplication()\n",
      "Cell \u001b[0;32mIn[7], line 6\u001b[0m, in \u001b[0;36mplot_multiplication\u001b[0;34m()\u001b[0m\n\u001b[1;32m      3\u001b[0m matrix_time \u001b[38;5;241m=\u001b[39m []\n\u001b[1;32m      5\u001b[0m \u001b[38;5;28;01mfor\u001b[39;00m k \u001b[38;5;129;01min\u001b[39;00m \u001b[38;5;28mrange\u001b[39m(\u001b[38;5;241m2\u001b[39m, \u001b[38;5;241m17\u001b[39m):\n\u001b[0;32m----> 6\u001b[0m     _, _, time \u001b[38;5;241m=\u001b[39m main(k, \u001b[38;5;241m7\u001b[39m)\n\u001b[1;32m      8\u001b[0m     matrix_size\u001b[38;5;241m.\u001b[39mappend(k)\n\u001b[1;32m      9\u001b[0m     matrix_size\u001b[38;5;241m.\u001b[39mappend(time)\n",
      "Cell \u001b[0;32mIn[4], line 9\u001b[0m, in \u001b[0;36mmain\u001b[0;34m(size, l, verbose)\u001b[0m\n\u001b[1;32m      7\u001b[0m \u001b[38;5;28;01mif\u001b[39;00m size \u001b[38;5;241m<\u001b[39m\u001b[38;5;241m=\u001b[39m l:\n\u001b[1;32m      8\u001b[0m     matrix_method \u001b[38;5;241m=\u001b[39m \u001b[38;5;124m'\u001b[39m\u001b[38;5;124mTraditional algorithm\u001b[39m\u001b[38;5;124m'\u001b[39m\n\u001b[0;32m----> 9\u001b[0m     result_matrix, total_operations \u001b[38;5;241m=\u001b[39m traditional_algorithm(A, B)\n\u001b[1;32m     10\u001b[0m \u001b[38;5;28;01melse\u001b[39;00m:\n\u001b[1;32m     11\u001b[0m     matrix_method \u001b[38;5;241m=\u001b[39m \u001b[38;5;124m'\u001b[39m\u001b[38;5;124mBinet algorithm\u001b[39m\u001b[38;5;124m'\u001b[39m\n",
      "\u001b[0;31mTypeError\u001b[0m: cannot unpack non-iterable NoneType object"
     ]
    }
   ],
   "source": [
    "plot_multiplication()"
   ]
  },
  {
   "cell_type": "code",
   "execution_count": null,
   "metadata": {},
   "outputs": [],
   "source": []
  }
 ],
 "metadata": {
  "kernelspec": {
   "display_name": "Python 3 (ipykernel)",
   "language": "python",
   "name": "python3"
  },
  "language_info": {
   "codemirror_mode": {
    "name": "ipython",
    "version": 3
   },
   "file_extension": ".py",
   "mimetype": "text/x-python",
   "name": "python",
   "nbconvert_exporter": "python",
   "pygments_lexer": "ipython3",
   "version": "3.11.5"
  },
  "varInspector": {
   "cols": {
    "lenName": 16,
    "lenType": 16,
    "lenVar": 40
   },
   "kernels_config": {
    "python": {
     "delete_cmd_postfix": "",
     "delete_cmd_prefix": "del ",
     "library": "var_list.py",
     "varRefreshCmd": "print(var_dic_list())"
    },
    "r": {
     "delete_cmd_postfix": ") ",
     "delete_cmd_prefix": "rm(",
     "library": "var_list.r",
     "varRefreshCmd": "cat(var_dic_list()) "
    }
   },
   "types_to_exclude": [
    "module",
    "function",
    "builtin_function_or_method",
    "instance",
    "_Feature"
   ],
   "window_display": false
  }
 },
 "nbformat": 4,
 "nbformat_minor": 1
}

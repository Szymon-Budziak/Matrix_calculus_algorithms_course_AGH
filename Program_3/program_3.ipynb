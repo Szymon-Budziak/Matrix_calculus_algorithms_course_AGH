{
 "cells": [
  {
   "cell_type": "markdown",
   "id": "2d4685dc",
   "metadata": {},
   "source": [
    "# Trzeci program\n",
    "\n",
    "*Wszystkie prezentowane tematy znajdują się na: Wykład profesora Paszyńskiego z przedmiotu Rachunek Macierzowy*\n",
    "[Źródło](https://home.agh.edu.pl/~paszynsk/RM/RachunekMacierzowy3.pdf)\n",
    "\n",
    "**Realizowane tematy:** \n",
    "Napisanie programu który dla macierzy M = macierz Tybetańska z 650 roku p.n.e. \n",
    "\n",
    "1. Oblicza normę macierzową ∥M∥1 (slajdy 7,10,11)\n",
    "\n",
    "2. Oblicza współczynnik uwarunkowania macierzowy ∥M∥1  (slajd 19,20)\n",
    "\n",
    "3. Oblicza normę macierzową ∥M∥2 (slajdy 7,15)\n",
    "\n",
    "4. Oblicza współczynnik uwarunkowania macierzowy ∥M∥2  (slajdy 19,20,21,22,23)\n",
    "\n",
    "5. Oblicza normę macierzową ∥M∥p (slajdy 7)\n",
    "\n",
    "6. Oblicza współczynnik uwarunkowania macierzowy ∥M∥p (slajd 19,20)\n",
    "\n",
    "7. Oblicza normę macierzową ∥M∥∞ (slajd 7,13)\n",
    "\n",
    "8. Oblicza współczynnik uwarunkowania macierzowy ∥M∥∞  (slajd 19,20)\n",
    "\n",
    "9. Oblicza SVD macierzy M (slajd 34,37, na kolejnych slajdach są obliczenia ręczne które zastępujemy zawołaniem biblioteki numerycznej)\n",
    "\n",
    "\n",
    "\n",
    "**Przygotowali:**\n",
    "- *Tomasz Bochnak*\n",
    "- *Szymon Budziak*"
   ]
  },
  {
   "cell_type": "code",
   "execution_count": 1,
   "id": "2199b1c0",
   "metadata": {
    "ExecuteTime": {
     "start_time": "2024-04-14T16:57:35.565658Z",
     "end_time": "2024-04-14T16:57:35.618159Z"
    }
   },
   "outputs": [],
   "source": [
    "import numpy as np"
   ]
  },
  {
   "cell_type": "code",
   "execution_count": 2,
   "id": "519ba35b",
   "metadata": {
    "ExecuteTime": {
     "start_time": "2024-04-14T16:57:35.614455Z",
     "end_time": "2024-04-14T16:57:35.628014Z"
    }
   },
   "outputs": [
    {
     "data": {
      "text/plain": "array([[4, 9, 2],\n       [3, 5, 7],\n       [8, 1, 6]])"
     },
     "execution_count": 2,
     "metadata": {},
     "output_type": "execute_result"
    }
   ],
   "source": [
    "# Macierz z wykładu\n",
    "M = np.array([[4, 9, 2],\n",
    "              [3, 5, 7],\n",
    "              [8, 1, 6]])\n",
    "\n",
    "M"
   ]
  },
  {
   "cell_type": "markdown",
   "id": "4decb418",
   "metadata": {},
   "source": [
    "## 1. Obliczenie normy macierzy M1"
   ]
  },
  {
   "cell_type": "markdown",
   "source": [
    "### Numpy norm\n",
    "![image](img/norm.png)"
   ],
   "metadata": {
    "collapsed": false
   }
  },
  {
   "cell_type": "code",
   "execution_count": 3,
   "outputs": [
    {
     "name": "stdout",
     "output_type": "stream",
     "text": [
      "Norma macierzowa M1: 15\n"
     ]
    }
   ],
   "source": [
    "m1_norm = lambda x: np.max(np.sum(x, axis=0))\n",
    "\n",
    "print(f'Norma macierzowa M1: {m1_norm(M)}')"
   ],
   "metadata": {
    "collapsed": false,
    "ExecuteTime": {
     "start_time": "2024-04-14T16:57:35.625749Z",
     "end_time": "2024-04-14T16:57:35.636615Z"
    }
   }
  },
  {
   "cell_type": "code",
   "execution_count": 4,
   "id": "eb8b5359",
   "metadata": {
    "ExecuteTime": {
     "start_time": "2024-04-14T16:57:35.641315Z",
     "end_time": "2024-04-14T16:57:35.695208Z"
    }
   },
   "outputs": [
    {
     "name": "stdout",
     "output_type": "stream",
     "text": [
      "Norma macierzowa M1: 15.0\n"
     ]
    }
   ],
   "source": [
    "print(f'Norma macierzowa M1: {np.linalg.norm(M, ord=1)}')"
   ]
  },
  {
   "cell_type": "markdown",
   "id": "ce580c9e",
   "metadata": {},
   "source": [
    "## 2. Obliczenie współczynnika uwarunkowania macierzy M1"
   ]
  },
  {
   "cell_type": "markdown",
   "source": [
    "### Numpy cond\n",
    "\n",
    "![image](img/cond.png)"
   ],
   "metadata": {
    "collapsed": false
   }
  },
  {
   "cell_type": "code",
   "execution_count": 5,
   "outputs": [
    {
     "name": "stdout",
     "output_type": "stream",
     "text": [
      "Współczynnik uwarunkowania macierzy M1: 5.333333333333333\n"
     ]
    }
   ],
   "source": [
    "cond_m1 = lambda x: np.linalg.norm(x, ord=1) * np.linalg.norm(np.linalg.inv(x), ord=1)\n",
    "\n",
    "print(f'Współczynnik uwarunkowania macierzy M1: {cond_m1(M)}')"
   ],
   "metadata": {
    "collapsed": false,
    "ExecuteTime": {
     "start_time": "2024-04-14T16:57:35.644958Z",
     "end_time": "2024-04-14T16:57:35.706836Z"
    }
   }
  },
  {
   "cell_type": "code",
   "execution_count": 6,
   "outputs": [
    {
     "name": "stdout",
     "output_type": "stream",
     "text": [
      "Współczynnik uwarunkowania macierzy M1: 5.333333333333333\n"
     ]
    }
   ],
   "source": [
    "print(f'Współczynnik uwarunkowania macierzy M1: {np.linalg.cond(M, p=1)}')"
   ],
   "metadata": {
    "collapsed": false,
    "ExecuteTime": {
     "start_time": "2024-04-14T16:57:35.661997Z",
     "end_time": "2024-04-14T16:57:35.727222Z"
    }
   }
  },
  {
   "cell_type": "markdown",
   "id": "0386c679",
   "metadata": {},
   "source": [
    "## 3. Obliczenie normy macierzy M2"
   ]
  },
  {
   "cell_type": "code",
   "execution_count": 7,
   "outputs": [
    {
     "name": "stdout",
     "output_type": "stream",
     "text": [
      "Norma macierzowa M2: 15.000000000000002\n"
     ]
    }
   ],
   "source": [
    "m2_norm = lambda x: np.linalg.svd(x, compute_uv=False)[0]\n",
    "\n",
    "print(f'Norma macierzowa M2: {m2_norm(M)}')"
   ],
   "metadata": {
    "collapsed": false,
    "ExecuteTime": {
     "start_time": "2024-04-14T16:57:35.700310Z",
     "end_time": "2024-04-14T16:57:35.731173Z"
    }
   }
  },
  {
   "cell_type": "code",
   "execution_count": 8,
   "outputs": [
    {
     "name": "stdout",
     "output_type": "stream",
     "text": [
      "Norma macierzowa M2: 15.000000000000002\n"
     ]
    }
   ],
   "source": [
    "print(f'Norma macierzowa M2: {np.linalg.norm(M, ord=2)}')"
   ],
   "metadata": {
    "collapsed": false,
    "ExecuteTime": {
     "start_time": "2024-04-14T16:57:35.700365Z",
     "end_time": "2024-04-14T16:57:35.731335Z"
    }
   }
  },
  {
   "cell_type": "markdown",
   "id": "bc312049",
   "metadata": {},
   "source": [
    "## 4. Obliczenie współczynnika uwarunkowania macierzy M2"
   ]
  },
  {
   "cell_type": "code",
   "execution_count": 9,
   "outputs": [
    {
     "name": "stdout",
     "output_type": "stream",
     "text": [
      "Współczynnik uwarunkowania macierzy M2: 4.330127018922198\n"
     ]
    }
   ],
   "source": [
    "def cond_m2(x: np.ndarray) -> float:\n",
    "    singular_values = np.linalg.svd(x, compute_uv=False)\n",
    "    return singular_values[0] / singular_values[x.shape[0] - 1]\n",
    "\n",
    "\n",
    "print(f'Współczynnik uwarunkowania macierzy M2: {cond_m2(M)}')"
   ],
   "metadata": {
    "collapsed": false,
    "ExecuteTime": {
     "start_time": "2024-04-14T16:57:35.700396Z",
     "end_time": "2024-04-14T16:57:35.731526Z"
    }
   }
  },
  {
   "cell_type": "code",
   "execution_count": 10,
   "outputs": [
    {
     "name": "stdout",
     "output_type": "stream",
     "text": [
      "Współczynnik uwarunkowania macierzy M2: 4.330127018922198\n"
     ]
    }
   ],
   "source": [
    "print(f'Współczynnik uwarunkowania macierzy M2: {np.linalg.cond(M, p=2)}')"
   ],
   "metadata": {
    "collapsed": false,
    "ExecuteTime": {
     "start_time": "2024-04-14T16:57:35.700452Z",
     "end_time": "2024-04-14T16:57:35.731684Z"
    }
   }
  },
  {
   "cell_type": "markdown",
   "source": [
    "## 5. Obliczenie normy macierzowej Mp"
   ],
   "metadata": {
    "collapsed": false
   }
  },
  {
   "cell_type": "code",
   "execution_count": 11,
   "outputs": [
    {
     "name": "stdout",
     "output_type": "stream",
     "text": [
      "Norma macierzowa M1: 15.0\n",
      "Norma macierzowa M2: 15.000000000000002\n",
      "Norma macierzowa M3: Invalid norm order for matrices.\n"
     ]
    }
   ],
   "source": [
    "p_values = [1, 2, 3]\n",
    "\n",
    "for p in p_values:\n",
    "    try:\n",
    "        print(f'Norma macierzowa M{p}: {np.linalg.norm(M, ord=p)}')\n",
    "    except ValueError as e:\n",
    "        print(f'Norma macierzowa M{p}: {e}')"
   ],
   "metadata": {
    "collapsed": false,
    "ExecuteTime": {
     "start_time": "2024-04-14T16:57:35.702453Z",
     "end_time": "2024-04-14T16:57:35.731774Z"
    }
   }
  },
  {
   "cell_type": "markdown",
   "id": "50d08cd7",
   "metadata": {},
   "source": [
    "## 6. Obliczenie współczynnika uwarunkowania macierzy Mp"
   ]
  },
  {
   "cell_type": "code",
   "execution_count": 12,
   "outputs": [
    {
     "name": "stdout",
     "output_type": "stream",
     "text": [
      "Współczynnik uwarunkowania macierzy M1: 5.333333333333333\n",
      "Współczynnik uwarunkowania macierzy M2: 4.330127018922198\n",
      "Współczynnik uwarunkowania macierzy M3: Invalid norm order for matrices.\n"
     ]
    }
   ],
   "source": [
    "p = [1, 2, 3]\n",
    "\n",
    "for i in p:\n",
    "    try:\n",
    "        print(f'Współczynnik uwarunkowania macierzy M{i}: {np.linalg.cond(M, p=i)}')\n",
    "    except ValueError as e:\n",
    "        print(f'Współczynnik uwarunkowania macierzy M{i}: {e}')"
   ],
   "metadata": {
    "collapsed": false,
    "ExecuteTime": {
     "start_time": "2024-04-14T16:57:35.745725Z",
     "end_time": "2024-04-14T16:57:35.918636Z"
    }
   }
  },
  {
   "cell_type": "markdown",
   "id": "1b83b8b2",
   "metadata": {},
   "source": [
    "Problemy z punktu 5 oraz 6 są jednak problemami NP-trudnymi i nie istnieje algorytm, który w czasie wielomianowym obliczyłby te wartości. Udało znaleźć się papera, który omawia ten problem:\n",
    "\n",
    "https://arxiv.org/abs/1001.2613"
   ]
  },
  {
   "cell_type": "markdown",
   "id": "34eacbdd",
   "metadata": {},
   "source": [
    "## 7. Obliczenie normy macierzowej M∞"
   ]
  },
  {
   "cell_type": "code",
   "execution_count": 13,
   "outputs": [
    {
     "name": "stdout",
     "output_type": "stream",
     "text": [
      "Norma macierzowa M∞: 15\n"
     ]
    }
   ],
   "source": [
    "m_inf = lambda x: np.max(np.sum(x, axis=1))\n",
    "\n",
    "print(f'Norma macierzowa M∞: {m_inf(M)}')"
   ],
   "metadata": {
    "collapsed": false,
    "ExecuteTime": {
     "start_time": "2024-04-14T16:57:35.745804Z",
     "end_time": "2024-04-14T16:57:35.918987Z"
    }
   }
  },
  {
   "cell_type": "code",
   "execution_count": 14,
   "outputs": [
    {
     "name": "stdout",
     "output_type": "stream",
     "text": [
      "Norma macierzowa M∞: 15.0\n"
     ]
    }
   ],
   "source": [
    "print(f'Norma macierzowa M∞: {np.linalg.norm(M, ord=np.inf)}')"
   ],
   "metadata": {
    "collapsed": false,
    "ExecuteTime": {
     "start_time": "2024-04-14T16:57:35.745847Z",
     "end_time": "2024-04-14T16:57:35.919982Z"
    }
   }
  },
  {
   "cell_type": "markdown",
   "id": "01a4212c",
   "metadata": {},
   "source": [
    "## 8. Obliczenie współczynnika uwarunkowania macierzy M∞"
   ]
  },
  {
   "cell_type": "code",
   "execution_count": 15,
   "outputs": [
    {
     "name": "stdout",
     "output_type": "stream",
     "text": [
      "Współczynnik uwarunkowania macierzy M∞: 5.333333333333333\n"
     ]
    }
   ],
   "source": [
    "cond_m_inf = lambda x: np.linalg.norm(x, ord=np.inf) * np.linalg.norm(np.linalg.inv(x), ord=np.inf)\n",
    "\n",
    "print(f'Współczynnik uwarunkowania macierzy M∞: {cond_m_inf(M)}')"
   ],
   "metadata": {
    "collapsed": false,
    "ExecuteTime": {
     "start_time": "2024-04-14T16:57:35.773650Z",
     "end_time": "2024-04-14T16:57:35.920560Z"
    }
   }
  },
  {
   "cell_type": "code",
   "execution_count": 16,
   "outputs": [
    {
     "name": "stdout",
     "output_type": "stream",
     "text": [
      "Współczynnik uwarunkowania macierzy M∞: 5.333333333333333\n"
     ]
    }
   ],
   "source": [
    "print(f'Współczynnik uwarunkowania macierzy M∞: {np.linalg.cond(M, p=np.inf)}')"
   ],
   "metadata": {
    "collapsed": false,
    "ExecuteTime": {
     "start_time": "2024-04-14T16:57:35.815906Z",
     "end_time": "2024-04-14T16:57:35.920736Z"
    }
   }
  },
  {
   "cell_type": "markdown",
   "id": "6bae5309",
   "metadata": {},
   "source": [
    "## 9. Obliczenie SVD macierzy M\n",
    "\n",
    "[SVD Wikipedia](https://en.wikipedia.org/wiki/Singular_value_decomposition)"
   ]
  },
  {
   "cell_type": "code",
   "execution_count": 17,
   "id": "386fae61",
   "metadata": {
    "ExecuteTime": {
     "start_time": "2024-04-14T16:57:35.821632Z",
     "end_time": "2024-04-14T16:57:35.920944Z"
    }
   },
   "outputs": [],
   "source": [
    "def svd(matrix: np.ndarray) -> tuple[np.ndarray, np.ndarray, np.ndarray]:\n",
    "    # Step 1: Compute A * A^T\n",
    "    aat = np.dot(matrix, matrix.T)\n",
    "\n",
    "    # Step 2: Compute eigenvalues and eigenvectors of A * A^T\n",
    "    eigenvalues_aat, eigenvectors_aat = np.linalg.eig(aat)\n",
    "\n",
    "    # Sort eigenvalues and eigenvectors in descending order\n",
    "    idx = eigenvalues_aat.argsort()[::-1]\n",
    "    eigenvalues_aat = eigenvalues_aat[idx]\n",
    "    eigenvectors_aat = eigenvectors_aat[:, idx]\n",
    "\n",
    "    # Step 3: Compute singular values and singular vectors of the original matrix\n",
    "    singular_values = np.sqrt(eigenvalues_aat)\n",
    "    singular_vectors = np.dot(matrix.T, eigenvectors_aat) / singular_values\n",
    "\n",
    "    return singular_vectors.T, singular_values, eigenvectors_aat"
   ]
  },
  {
   "cell_type": "code",
   "execution_count": 18,
   "outputs": [
    {
     "name": "stdout",
     "output_type": "stream",
     "text": [
      "U: [[-5.77350269e-01 -5.77350269e-01 -5.77350269e-01]\n",
      " [ 4.08248290e-01 -8.16496581e-01  4.08248290e-01]\n",
      " [ 7.07106781e-01  4.80740672e-17 -7.07106781e-01]]\n",
      "S: [15.          6.92820323  3.46410162]\n",
      "V: [[-5.77350269e-01 -7.07106781e-01  4.08248290e-01]\n",
      " [-5.77350269e-01  1.69222025e-16 -8.16496581e-01]\n",
      " [-5.77350269e-01  7.07106781e-01  4.08248290e-01]]\n"
     ]
    }
   ],
   "source": [
    "U, S, V = svd(M)\n",
    "\n",
    "print(f'U: {U}')\n",
    "print(f'S: {S}')\n",
    "print(f'V: {V}')"
   ],
   "metadata": {
    "collapsed": false,
    "ExecuteTime": {
     "start_time": "2024-04-14T16:57:35.862395Z",
     "end_time": "2024-04-14T16:57:35.921038Z"
    }
   }
  },
  {
   "cell_type": "markdown",
   "source": [
    "Możemy również spróbować zastosować funkcję biblioteczną z **numpy**"
   ],
   "metadata": {
    "collapsed": false
   }
  },
  {
   "cell_type": "code",
   "execution_count": 19,
   "outputs": [
    {
     "name": "stdout",
     "output_type": "stream",
     "text": [
      "U: [[-5.77350269e-01 -7.07106781e-01 -4.08248290e-01]\n",
      " [-5.77350269e-01  6.09234885e-15  8.16496581e-01]\n",
      " [-5.77350269e-01  7.07106781e-01 -4.08248290e-01]]\n",
      "S: [15.          6.92820323  3.46410162]\n",
      "V: [[-5.77350269e-01 -5.77350269e-01 -5.77350269e-01]\n",
      " [ 4.08248290e-01 -8.16496581e-01  4.08248290e-01]\n",
      " [-7.07106781e-01  1.16573418e-14  7.07106781e-01]]\n"
     ]
    }
   ],
   "source": [
    "U, S, V = np.linalg.svd(M)\n",
    "\n",
    "print(f'U: {U}')\n",
    "print(f'S: {S}')\n",
    "print(f'V: {V}')"
   ],
   "metadata": {
    "collapsed": false,
    "ExecuteTime": {
     "start_time": "2024-04-14T16:57:35.862451Z",
     "end_time": "2024-04-14T16:57:35.922457Z"
    }
   }
  }
 ],
 "metadata": {
  "kernelspec": {
   "display_name": "Python 3 (ipykernel)",
   "language": "python",
   "name": "python3"
  },
  "language_info": {
   "codemirror_mode": {
    "name": "ipython",
    "version": 3
   },
   "file_extension": ".py",
   "mimetype": "text/x-python",
   "name": "python",
   "nbconvert_exporter": "python",
   "pygments_lexer": "ipython3",
   "version": "3.11.5"
  },
  "varInspector": {
   "cols": {
    "lenName": 16,
    "lenType": 16,
    "lenVar": 40
   },
   "kernels_config": {
    "python": {
     "delete_cmd_postfix": "",
     "delete_cmd_prefix": "del ",
     "library": "var_list.py",
     "varRefreshCmd": "print(var_dic_list())"
    },
    "r": {
     "delete_cmd_postfix": ") ",
     "delete_cmd_prefix": "rm(",
     "library": "var_list.r",
     "varRefreshCmd": "cat(var_dic_list()) "
    }
   },
   "types_to_exclude": [
    "module",
    "function",
    "builtin_function_or_method",
    "instance",
    "_Feature"
   ],
   "window_display": false
  }
 },
 "nbformat": 4,
 "nbformat_minor": 5
}

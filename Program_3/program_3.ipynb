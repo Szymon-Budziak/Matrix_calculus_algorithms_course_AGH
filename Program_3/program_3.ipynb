{
 "cells": [
  {
   "cell_type": "markdown",
   "id": "2d4685dc",
   "metadata": {},
   "source": [
    "# Trzeci program\n",
    "\n",
    "**Realizowane tematy:** \n",
    "Napisanie programu który dla macierzy M = macierz Tybetańska z 650 roku p.n.e. \n",
    "\n",
    "1. Oblicza normę macierzową ∥M∥1 (slajdy 7,10,11)\n",
    "\n",
    "2. Oblicza współczynnik uwarunkowania macierzowy ∥M∥1  (slajd 19,20)\n",
    "\n",
    "3. Oblicza normę macierzową ∥M∥2 (slajdy 7,15)\n",
    "\n",
    "4. Oblicza współczynnik uwarunkowania macierzowy ∥M∥2  (slajdy 19,20,21,22,23)\n",
    "\n",
    "5. Oblicza normę macierzową ∥M∥p (slajdy 7)\n",
    "\n",
    "6. Oblicza współczynnik uwarunkowania macierzowy ∥M∥p (slajd 19,20)\n",
    "\n",
    "7. Oblicza normę macierzową ∥M∥∞ (slajd 7,13)\n",
    "\n",
    "8. Oblicza współczynnik uwarunkowania macierzowy ∥M∥∞  (slajd 19,20)\n",
    "\n",
    "9. Oblicza SVD macierzy M (slajd 34,37, na kolejnych slajdach są obliczenia ręczne które zastępujemy zawołaniem biblioteki numerycznej)\n",
    "\n",
    "\n",
    "\n",
    "**Przygotowali:**\n",
    "- *Tomasz Bochnak*\n",
    "- *Szymon Budziak*"
   ]
  },
  {
   "cell_type": "code",
   "execution_count": 1,
   "id": "2199b1c0",
   "metadata": {},
   "outputs": [],
   "source": [
    "import numpy as np"
   ]
  },
  {
   "cell_type": "code",
   "execution_count": 2,
   "id": "519ba35b",
   "metadata": {},
   "outputs": [
    {
     "data": {
      "text/plain": [
       "array([[4, 9, 2],\n",
       "       [3, 5, 7],\n",
       "       [8, 1, 6]])"
      ]
     },
     "execution_count": 2,
     "metadata": {},
     "output_type": "execute_result"
    }
   ],
   "source": [
    "# Macierz z wykładu\n",
    "M = np.array([[4,9,2], [3, 5, 7], [8, 1, 6]])\n",
    "M"
   ]
  },
  {
   "cell_type": "markdown",
   "id": "4decb418",
   "metadata": {},
   "source": [
    "## 1. Obliczenie normy macierzy M1"
   ]
  },
  {
   "cell_type": "code",
   "execution_count": 3,
   "id": "a6d4887d",
   "metadata": {},
   "outputs": [],
   "source": [
    "m1_norm = lambda x: np.max(np.sum(x, axis=0))"
   ]
  },
  {
   "cell_type": "code",
   "execution_count": 4,
   "id": "eb8b5359",
   "metadata": {},
   "outputs": [
    {
     "data": {
      "text/plain": [
       "15"
      ]
     },
     "execution_count": 4,
     "metadata": {},
     "output_type": "execute_result"
    }
   ],
   "source": [
    "m1_norm(M)"
   ]
  },
  {
   "cell_type": "markdown",
   "id": "ce580c9e",
   "metadata": {},
   "source": [
    "## 2. Obliczenie współczynnika uwarunkowania macierzy M1"
   ]
  },
  {
   "cell_type": "code",
   "execution_count": 5,
   "id": "33718190",
   "metadata": {},
   "outputs": [],
   "source": [
    "cond_m1 = lambda x: m1_norm(x) * m1_norm(np.linalg.inv(x))"
   ]
  },
  {
   "cell_type": "code",
   "execution_count": 6,
   "id": "0d2fd60a",
   "metadata": {},
   "outputs": [
    {
     "data": {
      "text/plain": [
       "1.0000000000000004"
      ]
     },
     "execution_count": 6,
     "metadata": {},
     "output_type": "execute_result"
    }
   ],
   "source": [
    "cond_m1(M)"
   ]
  },
  {
   "cell_type": "markdown",
   "id": "0386c679",
   "metadata": {},
   "source": [
    "## 3. Obliczenie normy macierzy M2"
   ]
  },
  {
   "cell_type": "code",
   "execution_count": 7,
   "id": "c4bcafca",
   "metadata": {},
   "outputs": [],
   "source": [
    "m2_norm = lambda x: np.linalg.svd(x, compute_uv=False)[0]"
   ]
  },
  {
   "cell_type": "code",
   "execution_count": 8,
   "id": "44350ac7",
   "metadata": {},
   "outputs": [
    {
     "data": {
      "text/plain": [
       "15.000000000000002"
      ]
     },
     "execution_count": 8,
     "metadata": {},
     "output_type": "execute_result"
    }
   ],
   "source": [
    "m2_norm(M)"
   ]
  },
  {
   "cell_type": "markdown",
   "id": "bc312049",
   "metadata": {},
   "source": [
    "## 4. Obliczenie współczynnika uwarunkowania macierzy M2"
   ]
  },
  {
   "cell_type": "code",
   "execution_count": 9,
   "id": "0eb97f5b",
   "metadata": {},
   "outputs": [],
   "source": [
    "def cond_m2(x: np.ndarray) -> float:\n",
    "    singular_values = np.linalg.svd(x, compute_uv=False)\n",
    "    return singular_values[0] / singular_values[x.shape[0] - 1]"
   ]
  },
  {
   "cell_type": "code",
   "execution_count": 10,
   "id": "9b79705e",
   "metadata": {},
   "outputs": [
    {
     "data": {
      "text/plain": [
       "4.330127018922196"
      ]
     },
     "execution_count": 10,
     "metadata": {},
     "output_type": "execute_result"
    }
   ],
   "source": [
    "cond_m2(M)"
   ]
  },
  {
   "cell_type": "markdown",
   "id": "50d08cd7",
   "metadata": {},
   "source": [
    "## 5. 6. Obliczenie normy macierzy  i współczynnika uwarunkowania Mp"
   ]
  },
  {
   "cell_type": "markdown",
   "id": "1b83b8b2",
   "metadata": {},
   "source": [
    "Problem np trudny\n",
    "\n",
    "https://arxiv.org/abs/1001.2613"
   ]
  },
  {
   "cell_type": "markdown",
   "id": "34eacbdd",
   "metadata": {},
   "source": [
    "## 7. Obliczenie normy macierzowej M∞"
   ]
  },
  {
   "cell_type": "code",
   "execution_count": 11,
   "id": "8b08be52",
   "metadata": {},
   "outputs": [],
   "source": [
    "m_inf = lambda x: np.max(np.sum(x, axis=1))"
   ]
  },
  {
   "cell_type": "code",
   "execution_count": 12,
   "id": "49872f97",
   "metadata": {},
   "outputs": [
    {
     "data": {
      "text/plain": [
       "15"
      ]
     },
     "execution_count": 12,
     "metadata": {},
     "output_type": "execute_result"
    }
   ],
   "source": [
    "m_inf(M)"
   ]
  },
  {
   "cell_type": "markdown",
   "id": "01a4212c",
   "metadata": {},
   "source": [
    "## 8. Obliczenie wsółczynnika uwarunkowania macierzy M∞"
   ]
  },
  {
   "cell_type": "code",
   "execution_count": 13,
   "id": "f099fa3c",
   "metadata": {},
   "outputs": [],
   "source": [
    "cond_m_inf = lambda x: m_inf(x) * m_inf(np.linalg.inv(x))"
   ]
  },
  {
   "cell_type": "code",
   "execution_count": 14,
   "id": "533b9030",
   "metadata": {},
   "outputs": [
    {
     "data": {
      "text/plain": [
       "1.0000000000000002"
      ]
     },
     "execution_count": 14,
     "metadata": {},
     "output_type": "execute_result"
    }
   ],
   "source": [
    "cond_m_inf(M)"
   ]
  },
  {
   "cell_type": "markdown",
   "id": "6bae5309",
   "metadata": {},
   "source": [
    "## 9. Obliczenie SVD macierzy M"
   ]
  },
  {
   "cell_type": "code",
   "execution_count": 15,
   "id": "386fae61",
   "metadata": {},
   "outputs": [],
   "source": [
    "# src: https://en.wikipedia.org/wiki/Power_iteration\n",
    "def power_iteration(A: np.ndarray , num_iterations: int) -> (np.ndarray, float):\n",
    "    # Ideally choose a random vector\n",
    "    # To decrease the chance that our vector\n",
    "    # Is orthogonal to the eigenvector\n",
    "    b_k = np.random.rand(A.shape[1])\n",
    "\n",
    "    for _ in range(num_iterations):\n",
    "        # calculate the matrix-by-vector product Ab\n",
    "        b_k1 = np.dot(A, b_k)\n",
    "\n",
    "        # calculate the norm\n",
    "        b_k1_norm = np.linalg.norm(b_k1)\n",
    "\n",
    "        # re normalize the vector\n",
    "        b_k = b_k1 / b_k1_norm\n",
    "\n",
    "    rayleigh_quotient = np.dot(b_k.T, np.dot(A, b_k)) / np.dot(b_k.T, b_k)\n",
    "\n",
    "    return b_k, rayleigh_quotient"
   ]
  },
  {
   "cell_type": "code",
   "execution_count": 16,
   "id": "f71176b2",
   "metadata": {},
   "outputs": [
    {
     "data": {
      "text/plain": [
       "(array([0.57735027, 0.57735027, 0.57735027]), 15.0)"
      ]
     },
     "execution_count": 16,
     "metadata": {},
     "output_type": "execute_result"
    }
   ],
   "source": [
    "power_iteration(M,100)"
   ]
  }
 ],
 "metadata": {
  "kernelspec": {
   "display_name": "Python 3 (ipykernel)",
   "language": "python",
   "name": "python3"
  },
  "language_info": {
   "codemirror_mode": {
    "name": "ipython",
    "version": 3
   },
   "file_extension": ".py",
   "mimetype": "text/x-python",
   "name": "python",
   "nbconvert_exporter": "python",
   "pygments_lexer": "ipython3",
   "version": "3.11.5"
  },
  "varInspector": {
   "cols": {
    "lenName": 16,
    "lenType": 16,
    "lenVar": 40
   },
   "kernels_config": {
    "python": {
     "delete_cmd_postfix": "",
     "delete_cmd_prefix": "del ",
     "library": "var_list.py",
     "varRefreshCmd": "print(var_dic_list())"
    },
    "r": {
     "delete_cmd_postfix": ") ",
     "delete_cmd_prefix": "rm(",
     "library": "var_list.r",
     "varRefreshCmd": "cat(var_dic_list()) "
    }
   },
   "types_to_exclude": [
    "module",
    "function",
    "builtin_function_or_method",
    "instance",
    "_Feature"
   ],
   "window_display": false
  }
 },
 "nbformat": 4,
 "nbformat_minor": 5
}
